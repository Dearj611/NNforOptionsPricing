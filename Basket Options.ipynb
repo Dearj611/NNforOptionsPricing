{
 "cells": [
  {
   "cell_type": "code",
   "execution_count": 18,
   "metadata": {},
   "outputs": [],
   "source": [
    "import QuantLib as ql\n",
    "import numpy as np\n",
    "from timeit import default_timer as timer\n",
    "\n",
    "import numpy as np\n",
    "from timeit import default_timer as timer\n",
    "\n",
    "class BasketOption:\n",
    "    def __init__(self, calculation_date, maturity, strike_price, risk_free_rate, option_type, options_number, options_raw):\n",
    "        self.maturity = maturity\n",
    "        self.options_number = options_number\n",
    "        self.options_raw = options_raw\n",
    "        self.strike_price = strike_price\n",
    "        self.risk_free_rate = risk_free_rate\n",
    "        self.option_type = option_type\n",
    "        self.calculation_date = calculation_date\n",
    "\n",
    "    def engine_price(self):\n",
    "        # global data\n",
    "        ql.Settings.instance().evaluationDate = self.calculation_date\n",
    "        riskFreeRate = ql.FlatForward(self.calculation_date, self.risk_free_rate, ql.Actual365Fixed())\n",
    "\n",
    "        # option parameters\n",
    "        payoff = ql.PlainVanillaPayoff(self.option_type, self.strike_price)\n",
    "        exercise = ql.EuropeanExercise(self.maturity)\n",
    "        day_count = ql.Actual365Fixed()\n",
    "        calendar = ql.UnitedStates()\n",
    "        \n",
    "        # market data\n",
    "        options = []\n",
    "        processes = []\n",
    "        for i in range(self.options_number):\n",
    "            option = {}\n",
    "            option['stock_price'] = ql.SimpleQuote(self.options_raw[i][0])\n",
    "            option['volatility'] = ql.BlackConstantVol(self.calculation_date, calendar, self.options_raw[i][1], ql.Actual365Fixed())\n",
    "            option['dividend'] = ql.FlatForward(self.calculation_date,self.options_raw[i][2], ql.Actual365Fixed())\n",
    "            option['process'] = ql.BlackScholesMertonProcess(\n",
    "                        ql.QuoteHandle(option['stock_price']),\n",
    "                        ql.YieldTermStructureHandle(option['dividend']),\n",
    "                        ql.YieldTermStructureHandle(riskFreeRate),\n",
    "                        ql.BlackVolTermStructureHandle(option['volatility']),\n",
    "                    )\n",
    "            processes.append(option['process'])\n",
    "            options.append(option)\n",
    "            \n",
    "        matrix = ql.Matrix(self.options_number, self.options_number)\n",
    "        for j in range(self.options_number):\n",
    "            for k in range(self.options_number):\n",
    "                if j == k:\n",
    "                    matrix[j][k] = 1.0\n",
    "                else:\n",
    "                    matrix[j][k] = 0.5\n",
    "\n",
    "        process = ql.StochasticProcessArray(processes, matrix)\n",
    "\n",
    "        basketoption = ql.BasketOption(ql.MaxBasketPayoff(payoff), exercise)\n",
    "        basketoption.setPricingEngine(\n",
    "            ql.MCEuropeanBasketEngine(process, \"pseudorandom\", timeStepsPerYear=1, requiredTolerance=0.02, seed=42)\n",
    "        )\n",
    "        print(basketoption.NPV())\n",
    "        \n",
    "        basketoption = ql.BasketOption(ql.MinBasketPayoff(payoff), exercise)\n",
    "        basketoption.setPricingEngine(\n",
    "            ql.MCEuropeanBasketEngine(process, \"pseudorandom\", timeStepsPerYear=1, requiredTolerance=0.02, seed=42)\n",
    "        )\n",
    "        print(basketoption.NPV())\n",
    "\n",
    "        basketoption = ql.BasketOption(ql.AverageBasketPayoff(payoff, 2), exercise)\n",
    "        basketoption.setPricingEngine(\n",
    "                ql.MCEuropeanBasketEngine(\n",
    "                process,\n",
    "                \"pseudorandom\",\n",
    "                timeSteps=10000,\n",
    "                requiredTolerance=0.02,\n",
    "                seed=42\n",
    "            )\n",
    "        )\n",
    "        print(basketoption.NPV())\n"
   ]
  },
  {
   "cell_type": "code",
   "execution_count": 22,
   "metadata": {},
   "outputs": [
    {
     "name": "stdout",
     "output_type": "stream",
     "text": [
      "0.07405418453778291\n",
      "0.0022840212437264347\n",
      "0.020653984243541246\n"
     ]
    }
   ],
   "source": [
    "options_number = 3\n",
    "options_raw = [[7, 0.1, 0.05],[7, 0.1, 0.05], [7, 0.1, 0.05]]\n",
    "calculation_date = ql.Date(15, ql.May, 1998)\n",
    "maturity = ql.Date(17, ql.May, 1999)\n",
    "option_type = ql.Option.Call\n",
    "\n",
    "sample_option = BasketOption(calculation_date, maturity, 8.0, 0.05, option_type, options_number, options_raw)\n",
    "sample_option.engine_price()"
   ]
  },
  {
   "cell_type": "code",
   "execution_count": null,
   "metadata": {},
   "outputs": [],
   "source": []
  }
 ],
 "metadata": {
  "kernelspec": {
   "display_name": "DLOptionsPricing",
   "language": "python",
   "name": "dloptionspricing"
  },
  "language_info": {
   "codemirror_mode": {
    "name": "ipython",
    "version": 3
   },
   "file_extension": ".py",
   "mimetype": "text/x-python",
   "name": "python",
   "nbconvert_exporter": "python",
   "pygments_lexer": "ipython3",
   "version": "3.7.3"
  }
 },
 "nbformat": 4,
 "nbformat_minor": 2
}
