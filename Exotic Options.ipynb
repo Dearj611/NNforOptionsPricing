{
 "cells": [
  {
   "cell_type": "code",
   "execution_count": 1,
   "metadata": {},
   "outputs": [],
   "source": [
    "import QuantLib as ql\n",
    "import numpy as np\n",
    "from timeit import default_timer as timer\n",
    "\n",
    "# option data\n",
    "calculation_date = ql.Date(27, 10, 2019)\n",
    "maturity_date = ql.Date(30, 10, 2020)\n",
    "stock_price = ql.SimpleQuote(150.0)\n",
    "strike_price = 150.0\n",
    "volatility = ql.SimpleQuote(0.10) # the historical vols for a year\n",
    "dividend_rate =  ql.SimpleQuote(0.002)\n",
    "risk_free_rate = ql.SimpleQuote(0.003)\n",
    "option_type = ql.Option.Put\n",
    "barrier = 160.0\n",
    "barrier_type = ql.Barrier.UpOut\n",
    "rebate = 0.0\n",
    "\n",
    "day_count = ql.Actual365Fixed()\n",
    "calendar = ql.UnitedStates()\n",
    "\n",
    "ql.Settings.instance().evaluationDate = calculation_date\n",
    "\n",
    "# construct the European Option\n",
    "payoff = ql.PlainVanillaPayoff(option_type, strike_price)\n",
    "exercise = ql.EuropeanExercise(maturity_date)\n",
    "european_option = ql.VanillaOption(payoff, exercise)\n",
    "\n",
    "spot_handle = ql.QuoteHandle(stock_price)\n",
    "flat_ts = ql.YieldTermStructureHandle(ql.FlatForward(calculation_date, ql.QuoteHandle(risk_free_rate), day_count))\n",
    "dividend_yield = ql.YieldTermStructureHandle(ql.FlatForward(calculation_date, ql.QuoteHandle(dividend_rate), day_count))\n",
    "flat_vol_ts = ql.BlackVolTermStructureHandle(ql.BlackConstantVol(calculation_date, calendar, ql.QuoteHandle(volatility), day_count))\n",
    "bsm_process = ql.BlackScholesMertonProcess(spot_handle, \n",
    "                                           dividend_yield, \n",
    "                                           flat_ts, \n",
    "                                           flat_vol_ts)\n"
   ]
  },
  {
   "cell_type": "code",
   "execution_count": 2,
   "metadata": {},
   "outputs": [
    {
     "name": "stdout",
     "output_type": "stream",
     "text": [
      "The theoretical price is  5.2214083456793094\n"
     ]
    }
   ],
   "source": [
    "option = ql.BarrierOption(barrier_type, barrier, rebate, \n",
    "                       payoff, \n",
    "                       ql.EuropeanExercise(maturity_date))\n",
    "option.setPricingEngine(ql.AnalyticBarrierEngine(bsm_process))\n",
    "trueValue = option.NPV()\n",
    "\n",
    "print(\"The theoretical price is \", trueValue)"
   ]
  },
  {
   "cell_type": "code",
   "execution_count": 3,
   "metadata": {},
   "outputs": [],
   "source": [
    "#variable names need to be changed\n",
    "\n",
    "class BarrierOption:\n",
    "    def __init__(self, calculation_date, maturity, stock_price, strike_price, volatility, dividend_rate, risk_free_rate, option_type, barrier, barrier_type, rebate):\n",
    "        self.maturity = maturity\n",
    "        self.stock_price = stock_price\n",
    "        self.strike_price = strike_price\n",
    "        self.volatility = volatility\n",
    "        self.dividend_rate = dividend_rate\n",
    "        self.risk_free_rate = risk_free_rate\n",
    "        self.option_type = option_type\n",
    "        self.calculation_date = calculation_date\n",
    "        self.barrier = barrier\n",
    "        self.barrier_type = barrier_type\n",
    "        self.rebate = rebate\n",
    "        self.bs_price = -1\n",
    "        \n",
    "        \n",
    "    def BSM_price(self):\n",
    "        day_count = ql.Actual365Fixed()\n",
    "        calendar = ql.UnitedStates()\n",
    "        ql.Settings.instance().evaluationDate = self.calculation_date\n",
    "        \n",
    "        payoff = ql.PlainVanillaPayoff(self.option_type, self.strike_price)\n",
    "        exercise = ql.EuropeanExercise(self.maturity)\n",
    "        european_option = ql.VanillaOption(payoff, exercise)\n",
    "        spot_handle = ql.QuoteHandle(ql.SimpleQuote(self.stock_price))\n",
    "        flat_ts = ql.YieldTermStructureHandle(ql.FlatForward(self.calculation_date, ql.QuoteHandle(ql.SimpleQuote(self.risk_free_rate)), day_count))\n",
    "        dividend_yield = ql.YieldTermStructureHandle(ql.FlatForward(self.calculation_date, ql.QuoteHandle(ql.SimpleQuote(self.dividend_rate)), day_count))\n",
    "        flat_vol_ts = ql.BlackVolTermStructureHandle(ql.BlackConstantVol(self.calculation_date, calendar, ql.QuoteHandle(ql.SimpleQuote(self.volatility)), day_count))\n",
    "        bsm_process = ql.BlackScholesMertonProcess(spot_handle, \n",
    "                                                   dividend_yield, \n",
    "                                                   flat_ts, \n",
    "                                                   flat_vol_ts)\n",
    "        option = ql.BarrierOption(self.barrier_type, self.barrier, self.rebate, \n",
    "                       payoff, exercise)\n",
    "        option.setPricingEngine(ql.AnalyticBarrierEngine(bsm_process))\n",
    "        trueValue = option.NPV()\n",
    "        self.bs_price = trueValue\n",
    "        return self.bs_price\n",
    "    \n",
    "    def data_set(self):\n",
    "        '''\n",
    "        Funtion to return a set of required data for one sample for training purpose.\n",
    "        \n",
    "        '''\n",
    "        if self.bs_price == -1:\n",
    "            self.BSM_price()\n",
    "        maturity_in_year = (self.maturity - self.calculation_date)/365\n",
    "        data_set = (self.stock_price, self.strike_price,self.barrier, maturity_in_year, self.dividend_rate, self.volatility, self.risk_free_rate, self.rebate, self.bs_price)\n",
    "        return data_set"
   ]
  },
  {
   "cell_type": "code",
   "execution_count": 4,
   "metadata": {},
   "outputs": [
    {
     "name": "stdout",
     "output_type": "stream",
     "text": [
      "barrier price:  5.2214083456793094\n"
     ]
    }
   ],
   "source": [
    "stock_price = 150.0\n",
    "barrier_price = 160.0\n",
    "rebate = 0.0\n",
    "volatility = 0.1\n",
    "risk_free_rate = 0.003\n",
    "dividend_rate = 0.002\n",
    "barrier = BarrierOption(calculation_date, maturity_date, stock_price, strike_price, volatility, \n",
    "                        dividend_rate, risk_free_rate, option_type, barrier_price, barrier_type, rebate\n",
    "                        )\n",
    "print('barrier price: ', barrier.BSM_price())"
   ]
  },
  {
   "cell_type": "code",
   "execution_count": 5,
   "metadata": {},
   "outputs": [],
   "source": [
    "from statistics import *\n",
    "from math import sqrt\n",
    "import matplotlib as mpl\n",
    "import numpy as np\n",
    "from IPython.display import display\n",
    "import matplotlib.pyplot as plt\n",
    "%matplotlib inline\n",
    "\n",
    "def CheckAccuracy(y,y_hat):\n",
    "    stats = dict()\n",
    "    \n",
    "    stats['diff'] = y - y_hat\n",
    "    stats['diff'].sort()\n",
    "\n",
    "    stats['mse'] = mean(stats['diff']**2)\n",
    "    print(\"Mean Squared Error:      \", stats['mse'])\n",
    "    \n",
    "    stats['rmse'] = sqrt(stats['mse'])\n",
    "    print(\"Root Mean Squared Error: \", stats['rmse'])\n",
    "    \n",
    "    stats['mae'] = mean(abs(stats['diff']))\n",
    "    print(\"Mean Absolute Error:     \", stats['mae'])\n",
    "    \n",
    "    stats['mpe'] = sqrt(stats['mse'])/mean(y)\n",
    "    print(\"Mean Percent Error:      \", stats['mpe'])\n",
    "    \n",
    "    #plots\n",
    "    mpl.rcParams['agg.path.chunksize'] = 100000\n",
    "    mpl.pyplot.figure(figsize=(8,6))\n",
    "    plt.scatter(y, y_hat,color='black',linewidth=0.3,alpha=0.4, s=0.5)\n",
    "    plt.xlabel('Actual Price',fontsize=20,fontname='Times New Roman')\n",
    "    plt.ylabel('Predicted Price',fontsize=20,fontname='Times New Roman') \n",
    "    plt.show()\n",
    "    \n",
    "    mpl.pyplot.figure(figsize=(8,6))\n",
    "    plt.hist(stats['diff'], bins=50,edgecolor='black',color='white')\n",
    "    plt.xlabel('Diff')\n",
    "    plt.ylabel('Density')\n",
    "    plt.show()\n",
    "    \n",
    "    #return stats\n",
    "\n",
    "    \n",
    "def CheckAccuracy_scaled(scale,y,y_hat):\n",
    "    stats = dict()\n",
    "    \n",
    "    y = (y - scale.min_[6])/scale.scale_[6] \n",
    "    y_hat = (y_hat - scale.min_[6])/scaler.scale_[6] \n",
    "    stats['diff'] = y - y_hat\n",
    "    stats['diff'].sort()\n",
    "    \n",
    "    stats['diff_percentage'] = 100 * stats['diff'] / y\n",
    "    np.where(stats['diff_percentage'] > 1)\n",
    "    print(stats['diff_percentage'])\n",
    "\n",
    "    stats['mse'] = mean(stats['diff']**2)\n",
    "    print(\"Mean Squared Error:      \", stats['mse'])\n",
    "    \n",
    "    stats['rmse'] = sqrt(stats['mse'])\n",
    "    print(\"Root Mean Squared Error: \", stats['rmse'])\n",
    "    \n",
    "    stats['mae'] = mean(abs(stats['diff']))\n",
    "    print(\"Mean Absolute Error:     \", stats['mae'])\n",
    "    \n",
    "    stats['mpe'] = sqrt(stats['mse'])/mean(y)\n",
    "    print(\"Mean Percent Error:      \", stats['mpe'])\n",
    "    \n",
    "    #plots\n",
    "    mpl.rcParams['agg.path.chunksize'] = 100000\n",
    "    mpl.pyplot.figure(figsize=(8,6))\n",
    "    plt.scatter(y, y_hat,color='black',linewidth=0.3,alpha=0.4, s=0.5)\n",
    "    plt.xlabel('Actual Price',fontsize=20,fontname='Times New Roman')\n",
    "    plt.ylabel('Predicted Price',fontsize=20,fontname='Times New Roman') \n",
    "    plt.show()\n",
    "    \n",
    "    mpl.pyplot.figure(figsize=(8,6))\n",
    "    plt.hist(stats['diff'], bins=50,edgecolor='black',color='white')\n",
    "    plt.xlabel('Diff')\n",
    "    plt.ylabel('Density')\n",
    "    plt.show()\n",
    "    \n"
   ]
  },
  {
   "cell_type": "code",
   "execution_count": 6,
   "metadata": {},
   "outputs": [],
   "source": [
    "import datetime\n",
    "import random\n",
    "import pandas as pd\n",
    "\n",
    "'''Date helper functions'''\n",
    "def xldate_to_datetime(xldate):\n",
    "    temp = datetime.datetime(1899, 12, 30)\n",
    "    delta = datetime.timedelta(days=xldate)\n",
    "    return temp+delta\n",
    "\n",
    "def ql_to_datetime(d):\n",
    "    return datetime.datetime(d.year(), d.month(), d.dayOfMonth())\n",
    "\n",
    "def datetime_to_xldate(date):\n",
    "    temp = datetime.datetime(1899, 12, 30)\n",
    "    return (date - temp).days\n",
    "\n",
    "def random_barrier_options_pd(numbers = 0):\n",
    "    options = []\n",
    "    start_maturity = datetime.datetime(2020,11,1)\n",
    "    end_maturity = datetime.datetime(2023,10,30)\n",
    "    calculation_date = datetime.datetime(2020,10,30)\n",
    "    \n",
    "    xldate1 = datetime_to_xldate(start_maturity)\n",
    "    xldate2 = datetime_to_xldate(end_maturity)\n",
    "    calculation_xldate = datetime_to_xldate(calculation_date)\n",
    "    calculation_date = ql.Date(calculation_xldate)\n",
    "    for number in range(numbers):\n",
    "        maturity = ql.Date(random.randint(xldate1, xldate2+1))\n",
    "        stock_price = random.randint(100, 501)\n",
    "        strike_price = random.randint(7, 651)\n",
    "        volatility = random.uniform(0.05, 0.90)\n",
    "        dividend_rate = random.uniform(0, 0.003)\n",
    "        risk_free_rate = random.uniform(0.001, 0.003)\n",
    "        option_type = ql.Option.Put\n",
    "        barrier_price = stock_price * (random.uniform(1, 1.2))\n",
    "        barrier_type = ql.Barrier.UpOut\n",
    "        rebate = 0.0\n",
    "        option = BarrierOption(calculation_date, maturity, stock_price, strike_price, volatility, \n",
    "                        dividend_rate, risk_free_rate, option_type, barrier_price, barrier_type, rebate\n",
    "                        )\n",
    "        options.append(option.data_set())  \n",
    "    dataframe = pd.DataFrame(options)\n",
    "    dataframe.columns = ['stock_price', 'strike_price', 'barrier_price', 'maturity', 'devidends', 'volatility', 'risk_free_rate', 'rebate', 'put_price']\n",
    "    return dataframe\n",
    "\n",
    "def random_barrier_options_uniform_pd(numbers = 0):\n",
    "    options = []\n",
    "    start_maturity = datetime.datetime(2020,11,1)\n",
    "    end_maturity = datetime.datetime(2023,10,30)\n",
    "    calculation_date = datetime.datetime(2020,10,30)\n",
    "    \n",
    "    xldate1 = datetime_to_xldate(start_maturity)\n",
    "    xldate2 = datetime_to_xldate(end_maturity)\n",
    "    calculation_xldate = datetime_to_xldate(calculation_date)\n",
    "    calculation_date = ql.Date(calculation_xldate)\n",
    "    \n",
    "    numbers = 9\n",
    "    maturity = np.linspace(xldate1, xldate2+1, 10)\n",
    "    stock_price = np.linspace(100, 500, 10)\n",
    "    strike_price = np.linspace(7, 650, 10)\n",
    "    volatility = np.linspace(0.05, 0.90, 10)\n",
    "    dividend_rate = np.linspace(0, 0.003, 10)\n",
    "    risk_free_rate = np.linspace(0.001, 0.003, 10)\n",
    "    option_type = ql.Option.Put\n",
    "    barrier_price = stock_price * (random.uniform(1.01, 1.2))\n",
    "    barrier_type = ql.Barrier.UpOut\n",
    "    rebate = 0.0\n",
    "\n",
    "    for i in range(numbers):\n",
    "        for j in range(numbers):\n",
    "            for k in range(numbers):\n",
    "                for l in range(numbers):\n",
    "                    for m in range(numbers):\n",
    "                        for n in range(numbers):\n",
    "                            for o in range(numbers):\n",
    "                                option = BarrierOption(calculation_date, ql.Date(int(maturity[i])), stock_price[j], strike_price[k], volatility[l], dividend_rate[m], \n",
    "                                            risk_free_rate[n], option_type, barrier_price[o],barrier_type, rebate )\n",
    "                                options.append(option.data_set()) \n",
    "    dataframe = pd.DataFrame(options)\n",
    "    dataframe.columns = ['stock_price', 'strike_price', 'barrier_price', 'maturity', 'devidends', 'volatility', 'risk_free_rate', 'put_price']\n",
    "    return dataframe\n"
   ]
  },
  {
   "cell_type": "code",
   "execution_count": 17,
   "metadata": {},
   "outputs": [],
   "source": [
    "df = random_barrier_options_pd(1000000)\n",
    "df = df.sample(frac=1).reset_index(drop=True)\n",
    "df.to_pickle('barrier_option_random.pkl')"
   ]
  },
  {
   "cell_type": "code",
   "execution_count": 7,
   "metadata": {},
   "outputs": [
    {
     "name": "stdout",
     "output_type": "stream",
     "text": [
      "mutiplying by 500.0010732744 and adding -0.500001\n"
     ]
    }
   ],
   "source": [
    "from sklearn.preprocessing import MinMaxScaler\n",
    "n = 1000000\n",
    "df = pd.read_pickle('barrier_option_random.pkl')\n",
    "n_train =  (int)(0.8 * n)\n",
    "train = df[0:n_train]\n",
    "test = df[n_train+1:n]\n",
    "\n",
    "scaler = MinMaxScaler(feature_range=(0,1))\n",
    "scaled_training = scaler.fit_transform(train)\n",
    "scaled_testing = scaler.transform(test)\n",
    "scaled_training_df = pd.DataFrame(scaled_training,columns=train.columns.values)\n",
    "scaled_testing_df = pd.DataFrame(scaled_testing,columns=test.columns.values)\n",
    "\n",
    "print(\"mutiplying by {:.10f} and adding {:.6f}\".format(scaler.scale_[6],scaler.min_[6]))\n",
    "X_train = scaled_training_df[['stock_price','strike_price', 'barrier_price','maturity', 'devidends', 'volatility', 'risk_free_rate']].values\n",
    "y_train = scaled_training_df['put_price'].values\n",
    "X_test = scaled_testing_df[['stock_price', 'strike_price','barrier_price','maturity', 'devidends', 'volatility', 'risk_free_rate']].values\n",
    "y_test = scaled_testing_df['put_price'].values"
   ]
  },
  {
   "cell_type": "code",
   "execution_count": 8,
   "metadata": {},
   "outputs": [
    {
     "name": "stderr",
     "output_type": "stream",
     "text": [
      "Using TensorFlow backend.\n"
     ]
    },
    {
     "name": "stdout",
     "output_type": "stream",
     "text": [
      "Train on 640000 samples, validate on 160000 samples\n",
      "Epoch 1/10\n",
      " - 54s - loss: 5.2109e-04 - val_loss: 5.7026e-04\n",
      "Epoch 2/10\n",
      " - 55s - loss: 1.3729e-04 - val_loss: 3.7211e-05\n",
      "Epoch 3/10\n",
      " - 55s - loss: 9.5003e-05 - val_loss: 2.2473e-05\n",
      "Epoch 4/10\n",
      " - 55s - loss: 7.2422e-05 - val_loss: 2.8506e-05\n",
      "Epoch 5/10\n",
      " - 54s - loss: 6.5117e-05 - val_loss: 1.8102e-05\n",
      "Epoch 6/10\n",
      " - 55s - loss: 5.9404e-05 - val_loss: 1.2734e-04\n",
      "Epoch 7/10\n",
      " - 55s - loss: 6.0935e-05 - val_loss: 3.4450e-05\n",
      "Epoch 8/10\n",
      " - 55s - loss: 4.9228e-05 - val_loss: 2.8127e-05\n",
      "Epoch 9/10\n",
      " - 53s - loss: 4.3538e-05 - val_loss: 1.4030e-05\n",
      "Epoch 10/10\n",
      " - 53s - loss: 4.1843e-05 - val_loss: 1.6364e-05\n",
      "The mean squared error (MSE) for the test data set is: 1.640974435192549e-05\n"
     ]
    }
   ],
   "source": [
    "from keras.models import Sequential\n",
    "from keras.layers import Dense, Dropout, Activation, LeakyReLU\n",
    "from keras import backend\n",
    "import keras\n",
    "\n",
    "model = Sequential()\n",
    "model.add(Dense(50,input_dim=7,activation='relu'))\n",
    "model.add(Dense(100,activation='relu'))\n",
    "model.add(Dense(100,activation='relu'))\n",
    "model.add(Dense(50,activation='relu'))\n",
    "model.add(Dense(1,activation='linear'))\n",
    "model.compile(loss='mean_squared_error',optimizer='adam')\n",
    "\n",
    "'''\n",
    "callbacks = [\n",
    "    keras.callbacks.EarlyStopping(\n",
    "        # Stop training when `val_loss` is no longer improving\n",
    "        monitor='val_loss',\n",
    "        # \"no longer improving\" being defined as \"no better than 1e-2 less\"\n",
    "        min_delta=1e-4,\n",
    "        # \"no longer improving\" being further defined as \"for at least 2 epochs\"\n",
    "        patience=3,\n",
    "        verbose=1)\n",
    "]\n",
    "'''\n",
    "\n",
    "model.fit(X_train, y_train, epochs=10, validation_split=0.2,\n",
    "        shuffle=True, verbose=2)\n",
    "\n",
    "test_error_rate = model.evaluate(X_test, y_test, verbose=0)\n",
    "print(\"The mean squared error (MSE) for the test data set is: {}\".format(test_error_rate))\n"
   ]
  },
  {
   "cell_type": "code",
   "execution_count": 10,
   "metadata": {},
   "outputs": [
    {
     "name": "stdout",
     "output_type": "stream",
     "text": [
      "Mean Squared Error:       1.6121064156123014e-05\n",
      "Root Mean Squared Error:  0.004015104501270548\n",
      "Mean Absolute Error:      0.0022009153541948066\n",
      "Mean Percent Error:       0.0550751677948583\n"
     ]
    },
    {
     "data": {
      "image/png": "[encoded data removed]",
      "text/plain": [
       "<Figure size 576x432 with 1 Axes>"
      ]
     },
     "metadata": {
      "needs_background": "light"
     },
     "output_type": "display_data"
    },
    {
     "data": {
      "image/png": "[encoded data removed]",
      "text/plain": [
       "<Figure size 576x432 with 1 Axes>"
      ]
     },
     "metadata": {
      "needs_background": "light"
     },
     "output_type": "display_data"
    },
    {
     "name": "stdout",
     "output_type": "stream",
     "text": [
      "Mean Squared Error:       1.6409744289180467e-05\n",
      "Root Mean Squared Error:  0.004050894257960885\n",
      "Mean Absolute Error:      0.0022080970619578278\n",
      "Mean Percent Error:       0.05549122058629184\n"
     ]
    },
    {
     "data": {
      "image/png": "[encoded data removed]",
      "text/plain": [
       "<Figure size 576x432 with 1 Axes>"
      ]
     },
     "metadata": {
      "needs_background": "light"
     },
     "output_type": "display_data"
    },
    {
     "data": {
      "image/png": "[encoded data removed]",
      "text/plain": [
       "<Figure size 576x432 with 1 Axes>"
      ]
     },
     "metadata": {
      "needs_background": "light"
     },
     "output_type": "display_data"
    },
    {
     "name": "stdout",
     "output_type": "stream",
     "text": [
      "----------------------------------------------------------------------------------------------------\n",
      "[-30.61924336 -15.31466383 -17.66086649 ...  23.4687518   21.71470276\n",
      "  29.43809879]\n",
      "Mean Squared Error:       6.563867579574874e-11\n",
      "Root Mean Squared Error:  8.101769917477831e-06\n",
      "Mean Absolute Error:      4.4161856907091145e-06\n",
      "Mean Percent Error:       0.00706959619928498\n"
     ]
    },
    {
     "data": {
      "image/png": "[encoded data removed]",
      "text/plain": [
       "<Figure size 576x432 with 1 Axes>"
      ]
     },
     "metadata": {
      "needs_background": "light"
     },
     "output_type": "display_data"
    },
    {
     "data": {
      "image/png": "[encoded data removed]",
      "text/plain": [
       "<Figure size 576x432 with 1 Axes>"
      ]
     },
     "metadata": {
      "needs_background": "light"
     },
     "output_type": "display_data"
    }
   ],
   "source": [
    "y_test_hat = model.predict(X_test)\n",
    "y_test_hat = np.squeeze(y_test_hat)\n",
    "\n",
    "y_train_hat = model.predict(X_train)\n",
    "y_train_hat = np.squeeze(y_train_hat)\n",
    "\n",
    "CheckAccuracy(y_train, y_train_hat)\n",
    "CheckAccuracy(y_test, y_test_hat)\n",
    "print('-'*100)\n",
    "CheckAccuracy_scaled(scaler, y_test, y_test_hat)"
   ]
  },
  {
   "cell_type": "code",
   "execution_count": 45,
   "metadata": {},
   "outputs": [
    {
     "name": "stdout",
     "output_type": "stream",
     "text": [
      "prediction price:  0.0011333680315330625\n",
      "original price:  [36.23780907]\n"
     ]
    }
   ],
   "source": [
    "df = random_barrier_options_pd(1)\n",
    "\n",
    "def DL_prediction_scaled(scaler, model, df):\n",
    "    scaled_training = scaler.transform(df)\n",
    "    input_df = pd.DataFrame(scaled_training,columns=df.columns.values)\n",
    "    greek_input = input_df[['stock_price','strike_price', 'barrier_price', 'maturity', 'devidends', 'volatility', 'risk_free_rate']].values\n",
    "    nn_original_price = model.predict(greek_input)[0][0] \n",
    "    return nn_original_price\n",
    "\n",
    "\n",
    "## Normalize the data exploiting the fact that the BS Model is linear homogenous in S,K\n",
    "\n",
    "bo_price = DL_prediction_scaled(scaler, model, df)\n",
    "print('prediction price: ', (bo_price - scaler.min_[6])/scaler.scale_[6])\n",
    "print('original price: ', df['put_price'].values )"
   ]
  },
  {
   "cell_type": "code",
   "execution_count": null,
   "metadata": {},
   "outputs": [],
   "source": []
  }
 ],
 "metadata": {
  "kernelspec": {
   "display_name": "DLOptionsPricing",
   "language": "python",
   "name": "dloptionspricing"
  },
  "language_info": {
   "codemirror_mode": {
    "name": "ipython",
    "version": 3
   },
   "file_extension": ".py",
   "mimetype": "text/x-python",
   "name": "python",
   "nbconvert_exporter": "python",
   "pygments_lexer": "ipython3",
   "version": "3.7.3"
  }
 },
 "nbformat": 4,
 "nbformat_minor": 2
}
