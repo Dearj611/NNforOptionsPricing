{
 "cells": [
  {
   "cell_type": "code",
   "execution_count": 1,
   "metadata": {},
   "outputs": [],
   "source": [
    "import QuantLib as ql\n",
    "import numpy as np\n",
    "from timeit import default_timer as timer\n",
    "\n",
    "# option data\n",
    "maturity_date = ql.Date(30, 10, 2020)\n",
    "stock_price = ql.SimpleQuote(170.0)\n",
    "strike_price = 150\n",
    "volatility = ql.SimpleQuote(0.10) # the historical vols for a year\n",
    "dividend_rate =  ql.SimpleQuote(0.002)\n",
    "risk_free_rate = ql.SimpleQuote(0.003)\n",
    "option_type = ql.Option.Call\n",
    "\n",
    "day_count = ql.Actual365Fixed()\n",
    "calendar = ql.UnitedStates()\n",
    "\n",
    "calculation_date = ql.Date(27, 10, 2019)\n",
    "ql.Settings.instance().evaluationDate = calculation_date\n",
    "\n",
    "# construct the European Option\n",
    "payoff = ql.PlainVanillaPayoff(option_type, strike_price)\n",
    "exercise = ql.EuropeanExercise(maturity_date)\n",
    "european_option = ql.VanillaOption(payoff, exercise)\n",
    "\n",
    "spot_handle = ql.QuoteHandle(stock_price)\n",
    "flat_ts = ql.YieldTermStructureHandle(ql.FlatForward(calculation_date, ql.QuoteHandle(risk_free_rate), day_count))\n",
    "dividend_yield = ql.YieldTermStructureHandle(ql.FlatForward(calculation_date, ql.QuoteHandle(dividend_rate), day_count))\n",
    "flat_vol_ts = ql.BlackVolTermStructureHandle(ql.BlackConstantVol(calculation_date, calendar, ql.QuoteHandle(volatility), day_count))\n",
    "bsm_process = ql.BlackScholesMertonProcess(spot_handle, \n",
    "                                           dividend_yield, \n",
    "                                           flat_ts, \n",
    "                                           flat_vol_ts)\n"
   ]
  },
  {
   "cell_type": "code",
   "execution_count": 2,
   "metadata": {},
   "outputs": [
    {
     "name": "stdout",
     "output_type": "stream",
     "text": [
      "The theoretical price is  14.473063314680012\n"
     ]
    }
   ],
   "source": [
    "barrier, barrierType, optionType, rebate = (160.0, ql.Barrier.DownOut, ql.Option.Put, 0.0)\n",
    "option = ql.BarrierOption(barrierType, barrier, rebate, \n",
    "                       payoff, \n",
    "                       ql.EuropeanExercise(maturity_date))\n",
    "option.setPricingEngine(ql.AnalyticBarrierEngine(bsm_process))\n",
    "trueValue = option.NPV()\n",
    "\n",
    "print(\"The theoretical price is \", trueValue)"
   ]
  },
  {
   "cell_type": "code",
   "execution_count": null,
   "metadata": {},
   "outputs": [],
   "source": [
    "#barrier options\n",
    "\n",
    "from QuantLib import *\n",
    "import matplotlib.pyplot as plt\n",
    "stock_price = ql.SimpleQuote(150.0)\n",
    "strike_price = 150\n",
    "barrier, barrierType, optionType, rebate = (strike_price*1.1, Barrier.UpOut, Option.Put, 0.0)\n",
    "underlying, strike, rf, sigma, maturity, divYield = (100, 105, 5e-2, 20e-2, 12, 0.0)\n",
    "## maturity is in days and must be an integer \n",
    "barrier_data = dict( (name,eval(name)) for name in [\n",
    "    'barrier', 'barrierType', 'optionType', 'rebate', 'underlying', 'strike', \n",
    "    'rf', 'sigma', 'maturity', 'divYield'] )\n",
    "barrier_data['barrierType'] = ['DownIn', 'UpIn', 'DownOut', 'UpOut'][barrier_data['barrierType']]\n",
    "barrier_data['optionType'] = ['Put', '???', 'Call'][barrier_data['optionType']+1]\n",
    "for k in barrier_data.keys():\n",
    "    print(\"{} = {}\".format(k, barrier_data[k]))\n",
    "\n",
    "today = Settings.instance().evaluationDate\n",
    "maturity_date = today + int(maturity)\n",
    "process = BlackScholesMertonProcess(\n",
    "    QuoteHandle(SimpleQuote(underlying)),\n",
    "    YieldTermStructureHandle(FlatForward(today, divYield, Thirty360())),\n",
    "    YieldTermStructureHandle(FlatForward(today, rf, Thirty360())),\n",
    "    BlackVolTermStructureHandle(BlackConstantVol(\n",
    "        today, NullCalendar(), sigma, Thirty360())))\n",
    "option = BarrierOption(barrierType, barrier, rebate, \n",
    "                       PlainVanillaPayoff(optionType, strike), \n",
    "                       EuropeanExercise(maturity_date))\n",
    "option.setPricingEngine(AnalyticBarrierEngine(process))\n",
    "trueValue = option.NPV()\n",
    "\n",
    "print(trueValue)"
   ]
  }
 ],
 "metadata": {
  "kernelspec": {
   "display_name": "NNforOptionsPricing",
   "language": "python",
   "name": "nnforoptionspricing"
  },
  "language_info": {
   "codemirror_mode": {
    "name": "ipython",
    "version": 3
   },
   "file_extension": ".py",
   "mimetype": "text/x-python",
   "name": "python",
   "nbconvert_exporter": "python",
   "pygments_lexer": "ipython3",
   "version": "3.7.3"
  }
 },
 "nbformat": 4,
 "nbformat_minor": 2
}
