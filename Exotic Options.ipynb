{
 "cells": [
  {
   "cell_type": "code",
   "execution_count": 1,
   "metadata": {},
   "outputs": [],
   "source": [
    "import QuantLib as ql\n",
    "import numpy as np\n",
    "from timeit import default_timer as timer\n",
    "\n",
    "# option data\n",
    "calculation_date = ql.Date(27, 10, 2019)\n",
    "maturity_date = ql.Date(30, 10, 2020)\n",
    "stock_price = ql.SimpleQuote(150.0)\n",
    "strike_price = 150.0\n",
    "volatility = ql.SimpleQuote(0.10) # the historical vols for a year\n",
    "dividend_rate =  ql.SimpleQuote(0.002)\n",
    "risk_free_rate = ql.SimpleQuote(0.003)\n",
    "option_type = ql.Option.Put\n",
    "barrier = 160.0\n",
    "barrier_type = ql.Barrier.UpOut\n",
    "rebate = 0.0\n",
    "\n",
    "day_count = ql.Actual365Fixed()\n",
    "calendar = ql.UnitedStates()\n",
    "\n",
    "ql.Settings.instance().evaluationDate = calculation_date\n",
    "\n",
    "# construct the European Option\n",
    "payoff = ql.PlainVanillaPayoff(option_type, strike_price)\n",
    "exercise = ql.EuropeanExercise(maturity_date)\n",
    "european_option = ql.VanillaOption(payoff, exercise)\n",
    "\n",
    "spot_handle = ql.QuoteHandle(stock_price)\n",
    "flat_ts = ql.YieldTermStructureHandle(ql.FlatForward(calculation_date, ql.QuoteHandle(risk_free_rate), day_count))\n",
    "dividend_yield = ql.YieldTermStructureHandle(ql.FlatForward(calculation_date, ql.QuoteHandle(dividend_rate), day_count))\n",
    "flat_vol_ts = ql.BlackVolTermStructureHandle(ql.BlackConstantVol(calculation_date, calendar, ql.QuoteHandle(volatility), day_count))\n",
    "bsm_process = ql.BlackScholesMertonProcess(spot_handle, \n",
    "                                           dividend_yield, \n",
    "                                           flat_ts, \n",
    "                                           flat_vol_ts)\n"
   ]
  },
  {
   "cell_type": "code",
   "execution_count": 2,
   "metadata": {},
   "outputs": [
    {
     "name": "stdout",
     "output_type": "stream",
     "text": [
      "The theoretical price is  5.2214083456793166\n"
     ]
    }
   ],
   "source": [
    "option = ql.BarrierOption(barrier_type, barrier, rebate, \n",
    "                       payoff, \n",
    "                       ql.EuropeanExercise(maturity_date))\n",
    "option.setPricingEngine(ql.AnalyticBarrierEngine(bsm_process))\n",
    "trueValue = option.NPV()\n",
    "\n",
    "print(\"The theoretical price is \", trueValue)"
   ]
  },
  {
   "cell_type": "code",
   "execution_count": 3,
   "metadata": {},
   "outputs": [],
   "source": [
    "#variable names need to be changed\n",
    "\n",
    "class BarrierOption:\n",
    "    def __init__(self, calculation_date, maturity, stock_price, strike_price, volatility, dividend_rate, risk_free_rate, option_type, barrier, barrier_type, rebate):\n",
    "        self.maturity = maturity\n",
    "        self.stock_price = stock_price\n",
    "        self.strike_price = strike_price\n",
    "        self.volatility = volatility\n",
    "        self.dividend_rate = dividend_rate\n",
    "        self.risk_free_rate = risk_free_rate\n",
    "        self.option_type = option_type\n",
    "        self.calculation_date = calculation_date\n",
    "        self.barrier = barrier\n",
    "        self.barrier_type = barrier_type\n",
    "        self.rebate = rebate\n",
    "        self.bs_price = -1\n",
    "        \n",
    "        \n",
    "    def BSM_price(self):\n",
    "        day_count = ql.Actual365Fixed()\n",
    "        calendar = ql.UnitedStates()\n",
    "        ql.Settings.instance().evaluationDate = self.calculation_date\n",
    "        \n",
    "        payoff = ql.PlainVanillaPayoff(self.option_type, self.strike_price)\n",
    "        exercise = ql.EuropeanExercise(self.maturity)\n",
    "        european_option = ql.VanillaOption(payoff, exercise)\n",
    "        spot_handle = ql.QuoteHandle(ql.SimpleQuote(self.stock_price))\n",
    "        flat_ts = ql.YieldTermStructureHandle(ql.FlatForward(self.calculation_date, ql.QuoteHandle(ql.SimpleQuote(self.risk_free_rate)), day_count))\n",
    "        dividend_yield = ql.YieldTermStructureHandle(ql.FlatForward(self.calculation_date, ql.QuoteHandle(ql.SimpleQuote(self.dividend_rate)), day_count))\n",
    "        flat_vol_ts = ql.BlackVolTermStructureHandle(ql.BlackConstantVol(self.calculation_date, calendar, ql.QuoteHandle(ql.SimpleQuote(self.volatility)), day_count))\n",
    "        bsm_process = ql.BlackScholesMertonProcess(spot_handle, \n",
    "                                                   dividend_yield, \n",
    "                                                   flat_ts, \n",
    "                                                   flat_vol_ts)\n",
    "        option = ql.BarrierOption(self.barrier_type, self.barrier, self.rebate, \n",
    "                       payoff, exercise)\n",
    "        option.setPricingEngine(ql.AnalyticBarrierEngine(bsm_process))\n",
    "        trueValue = option.NPV()\n",
    "        self.bs_price = trueValue\n",
    "        return self.bs_price\n",
    "    \n",
    "    def data_set(self):\n",
    "        '''\n",
    "        Funtion to return a set of required data for one sample for training purpose.\n",
    "        \n",
    "        '''\n",
    "        if self.bs_price == -1:\n",
    "            self.BSM_price()\n",
    "        maturity_in_year = (self.maturity - self.calculation_date)/365\n",
    "        data_set = (self.stock_price, self.strike_price,self.barrier, maturity_in_year, self.dividend_rate, self.volatility, self.risk_free_rate, self.rebate, self.bs_price)\n",
    "        return data_set"
   ]
  },
  {
   "cell_type": "code",
   "execution_count": 4,
   "metadata": {},
   "outputs": [
    {
     "name": "stdout",
     "output_type": "stream",
     "text": [
      "barrier price:  5.2214083456793166\n"
     ]
    }
   ],
   "source": [
    "stock_price = 150.0\n",
    "barrier_price = 160.0\n",
    "rebate = 0.0\n",
    "volatility = 0.1\n",
    "risk_free_rate = 0.003\n",
    "dividend_rate = 0.002\n",
    "barrier = BarrierOption(calculation_date, maturity_date, stock_price, strike_price, volatility, \n",
    "                        dividend_rate, risk_free_rate, option_type, barrier_price, barrier_type, rebate\n",
    "                        )\n",
    "print('barrier price: ', barrier.BSM_price())"
   ]
  },
  {
   "cell_type": "code",
   "execution_count": 37,
   "metadata": {},
   "outputs": [],
   "source": [
    "from statistics import *\n",
    "from math import sqrt\n",
    "import matplotlib as mpl\n",
    "import numpy as np\n",
    "from IPython.display import display\n",
    "import matplotlib.pyplot as plt\n",
    "%matplotlib inline\n",
    "\n",
    "def CheckAccuracy(y,y_hat):\n",
    "    stats = dict()\n",
    "    \n",
    "    stats['diff'] = y - y_hat\n",
    "    \n",
    "    stats['mse'] = mean(stats['diff']**2)\n",
    "    print(\"Mean Squared Error:      \", stats['mse'])\n",
    "    \n",
    "    stats['rmse'] = sqrt(stats['mse'])\n",
    "    print(\"Root Mean Squared Error: \", stats['rmse'])\n",
    "    \n",
    "    stats['mae'] = mean(abs(stats['diff']))\n",
    "    print(\"Mean Absolute Error:     \", stats['mae'])\n",
    "    \n",
    "    stats['mpe'] = sqrt(stats['mse'])/mean(y)\n",
    "    print(\"Mean Percent Error:      \", stats['mpe'])\n",
    "    \n",
    "    #plots\n",
    "    mpl.rcParams['agg.path.chunksize'] = 100000\n",
    "    mpl.pyplot.figure(figsize=(14,10))\n",
    "    plt.scatter(y, y_hat,color='black',linewidth=0.3,alpha=0.4, s=0.5)\n",
    "    plt.xlabel('Actual Price',fontsize=20,fontname='Times New Roman')\n",
    "    plt.ylabel('Predicted Price',fontsize=20,fontname='Times New Roman') \n",
    "    plt.show()\n",
    "    \n",
    "    mpl.pyplot.figure(figsize=(14,10))\n",
    "    plt.hist(stats['diff'], bins=50,edgecolor='black',color='white')\n",
    "    plt.xlabel('Diff')\n",
    "    plt.ylabel('Density')\n",
    "    plt.show()\n",
    "    \n",
    "    #return stats\n"
   ]
  },
  {
   "cell_type": "code",
   "execution_count": 5,
   "metadata": {},
   "outputs": [
    {
     "name": "stdout",
     "output_type": "stream",
     "text": [
      "   stock_price  strike_price  barrier_price  maturity  devidends  volatility  \\\n",
      "0          462           315     542.785012   0.90137   0.000021    0.369544   \n",
      "\n",
      "   risk_free_rate  rebate  put_price  \n",
      "0        0.001943     0.0   8.064371  \n"
     ]
    }
   ],
   "source": [
    "import datetime\n",
    "import random\n",
    "import pandas as pd\n",
    "\n",
    "'''Date helper functions'''\n",
    "def xldate_to_datetime(xldate):\n",
    "    temp = datetime.datetime(1899, 12, 30)\n",
    "    delta = datetime.timedelta(days=xldate)\n",
    "    return temp+delta\n",
    "\n",
    "def ql_to_datetime(d):\n",
    "    return datetime.datetime(d.year(), d.month(), d.dayOfMonth())\n",
    "\n",
    "def datetime_to_xldate(date):\n",
    "    temp = datetime.datetime(1899, 12, 30)\n",
    "    return (date - temp).days\n",
    "\n",
    "def random_barrier_options_pd(numbers = 0):\n",
    "    options = []\n",
    "    start_maturity = datetime.datetime(2020,11,1)\n",
    "    end_maturity = datetime.datetime(2023,10,30)\n",
    "    calculation_date = datetime.datetime(2020,10,30)\n",
    "    \n",
    "    xldate1 = datetime_to_xldate(start_maturity)\n",
    "    xldate2 = datetime_to_xldate(end_maturity)\n",
    "    calculation_xldate = datetime_to_xldate(calculation_date)\n",
    "    calculation_date = ql.Date(calculation_xldate)\n",
    "    for number in range(numbers):\n",
    "        maturity = ql.Date(random.randint(xldate1, xldate2+1))\n",
    "        stock_price = random.randint(100, 501)\n",
    "        strike_price = random.randint(7, 651)\n",
    "        volatility = random.uniform(0.05, 0.90)\n",
    "        dividend_rate = random.uniform(0, 0.003)\n",
    "        risk_free_rate = random.uniform(0.001, 0.003)\n",
    "        option_type = ql.Option.Put\n",
    "        barrier_price = stock_price * (random.uniform(1, 1.2))\n",
    "        barrier_type = ql.Barrier.UpOut\n",
    "        rebate = 0.0\n",
    "        option = BarrierOption(calculation_date, maturity, stock_price, strike_price, volatility, \n",
    "                        dividend_rate, risk_free_rate, option_type, barrier_price, barrier_type, rebate\n",
    "                        )\n",
    "        options.append(option.data_set())  \n",
    "    dataframe = pd.DataFrame(options)\n",
    "    dataframe.columns = ['stock_price', 'strike_price', 'barrier_price', 'maturity', 'devidends', 'volatility', 'risk_free_rate', 'rebate', 'put_price']\n",
    "    return dataframe\n",
    "\n",
    "print(random_barrier_options_pd(1))\n"
   ]
  },
  {
   "cell_type": "code",
   "execution_count": 15,
   "metadata": {},
   "outputs": [],
   "source": [
    "n = 300000\n",
    "df = random_barrier_options_pd(n)\n",
    "## Normalize the data exploiting the fact that the BS Model is linear homogenous in S,K\n",
    "df['stock_price'] = df['stock_price']/df['strike_price']\n",
    "df['barrier_price'] = df['barrier_price']/df['strike_price']\n",
    "df['put_price'] = df['put_price']/df['strike_price']\n",
    "#print(df)\n",
    "#print(df.isnull().any())\n",
    "n_train =  (int)(0.8 * n)\n",
    "train = df[0:n_train]\n",
    "X_train = train[['stock_price', 'strike_price', 'barrier_price', 'maturity', 'devidends', 'volatility', 'risk_free_rate']].values\n",
    "y_train = train['put_price'].values\n",
    "test = df[n_train+1:n]\n",
    "X_test = test[['stock_price', 'strike_price', 'barrier_price','maturity', 'devidends', 'volatility', 'risk_free_rate']].values\n",
    "y_test = test['put_price'].values"
   ]
  },
  {
   "cell_type": "code",
   "execution_count": null,
   "metadata": {},
   "outputs": [],
   "source": [
    "from sklearn.preprocessing import MinMaxScaler\n",
    "\n",
    "n = 300000\n",
    "df = random_barrier_options_pd(n)\n",
    "\n",
    "n_train =  (int)(0.8 * n)\n",
    "train = df[0:n_train]\n",
    "test = df[n_train+1:n]\n",
    "\n",
    "scaler = MinMaxScaler(feature_range=(0,1))\n",
    "scaled_training = scaler.fit_transform(train)\n",
    "scaled_testing = scaler.transform(test)\n",
    "scaled_training_df = pd.DataFrame(scaled_training,columns=train.columns.values)\n",
    "scaled_testing_df = pd.DataFrame(scaled_testing,columns=test.columns.values)\n",
    "\n",
    "print(\"mutiplying by {:.10f} and adding {:.6f}\".format(scaler.scale_[6],scaler.min_[6]))\n",
    "X_train = scaled_training_df[['stock_price','strike_price', 'maturity', 'devidends', 'volatility', 'risk_free_rate']].values\n",
    "y_train = scaled_training_df['call_price'].values\n",
    "X_test = scaled_testing_df[['stock_price', 'strike_price','maturity', 'devidends', 'volatility', 'risk_free_rate']].values\n",
    "y_test = scaled_testing_df['call_price'].values"
   ]
  },
  {
   "cell_type": "code",
   "execution_count": 28,
   "metadata": {},
   "outputs": [
    {
     "name": "stdout",
     "output_type": "stream",
     "text": [
      "Loaded model from disk\n",
      "Model: \"sequential_22\"\n",
      "_________________________________________________________________\n",
      "Layer (type)                 Output Shape              Param #   \n",
      "=================================================================\n",
      "dense_106 (Dense)            (None, 64)                512       \n",
      "_________________________________________________________________\n",
      "dropout_85 (Dropout)         (None, 64)                0         \n",
      "_________________________________________________________________\n",
      "dense_107 (Dense)            (None, 126)               8190      \n",
      "_________________________________________________________________\n",
      "activation_85 (Activation)   (None, 126)               0         \n",
      "_________________________________________________________________\n",
      "dropout_86 (Dropout)         (None, 126)               0         \n",
      "_________________________________________________________________\n",
      "dense_108 (Dense)            (None, 256)               32512     \n",
      "_________________________________________________________________\n",
      "activation_86 (Activation)   (None, 256)               0         \n",
      "_________________________________________________________________\n",
      "dropout_87 (Dropout)         (None, 256)               0         \n",
      "_________________________________________________________________\n",
      "dense_109 (Dense)            (None, 64)                16448     \n",
      "_________________________________________________________________\n",
      "activation_87 (Activation)   (None, 64)                0         \n",
      "_________________________________________________________________\n",
      "dropout_88 (Dropout)         (None, 64)                0         \n",
      "_________________________________________________________________\n",
      "dense_110 (Dense)            (None, 1)                 65        \n",
      "_________________________________________________________________\n",
      "activation_88 (Activation)   (None, 1)                 0         \n",
      "=================================================================\n",
      "Total params: 57,727\n",
      "Trainable params: 57,727\n",
      "Non-trainable params: 0\n",
      "_________________________________________________________________\n",
      "Train on 192000 samples, validate on 48000 samples\n",
      "Epoch 1/30\n",
      " - 16s - loss: 0.6953 - mse: 0.6953 - val_loss: 0.0139 - val_mse: 0.0139\n",
      "Epoch 2/30\n",
      " - 14s - loss: 0.0066 - mse: 0.0066 - val_loss: 0.0053 - val_mse: 0.0053\n",
      "Epoch 3/30\n",
      " - 14s - loss: 0.0057 - mse: 0.0057 - val_loss: 0.0050 - val_mse: 0.0050\n",
      "Epoch 4/30\n",
      " - 14s - loss: 0.0055 - mse: 0.0055 - val_loss: 0.0048 - val_mse: 0.0048\n",
      "Epoch 5/30\n",
      " - 18s - loss: 0.0054 - mse: 0.0054 - val_loss: 0.0052 - val_mse: 0.0052\n",
      "Epoch 6/30\n",
      " - 15s - loss: 0.0052 - mse: 0.0052 - val_loss: 0.0043 - val_mse: 0.0043\n",
      "Epoch 7/30\n",
      " - 14s - loss: 0.0051 - mse: 0.0051 - val_loss: 0.0048 - val_mse: 0.0048\n",
      "Epoch 8/30\n",
      " - 14s - loss: 0.0050 - mse: 0.0050 - val_loss: 0.0052 - val_mse: 0.0052\n",
      "Epoch 9/30\n",
      " - 16s - loss: 0.0049 - mse: 0.0049 - val_loss: 0.0046 - val_mse: 0.0046\n",
      "Epoch 00009: early stopping\n",
      "mse: 0.004618\n"
     ]
    }
   ],
   "source": [
    "from keras.models import Sequential\n",
    "from keras.layers import Dense\n",
    "from keras.models import model_from_json\n",
    "from keras.models import Sequential\n",
    "from keras import backend\n",
    "import keras\n",
    "import numpy\n",
    "import os\n",
    "\n",
    "# load json and create model\n",
    "json_file = open('model copy.json', 'r')\n",
    "loaded_model_json = json_file.read()\n",
    "json_file.close()\n",
    "loaded_model = model_from_json(loaded_model_json)\n",
    "# load weights into new model\n",
    "#loaded_model.load_weights(\"model_weights.h5\")\n",
    "print(\"Loaded model from disk\")\n",
    "loaded_model.summary()\n",
    "\n",
    "callbacks = [\n",
    "    keras.callbacks.EarlyStopping(\n",
    "        # Stop training when `val_loss` is no longer improving\n",
    "        monitor='val_loss',\n",
    "        # \"no longer improving\" being defined as \"no better than 1e-2 less\"\n",
    "        min_delta=1e-5,\n",
    "        # \"no longer improving\" being further defined as \"for at least 2 epochs\"\n",
    "        patience=3,\n",
    "        verbose=1)\n",
    "]\n",
    "\n",
    "# evaluate loaded model on test data\n",
    "loaded_model.compile(loss='mean_squared_error', optimizer='rmsprop', metrics=['mse'])\n",
    "loaded_model.fit(X_train, y_train, epochs=30, validation_split=0.2,callbacks=callbacks,\n",
    "        shuffle=True, verbose=2)\n",
    "score = loaded_model.evaluate(X_test, y_test, verbose=0)\n",
    "print(\"%s: %f\" % (loaded_model.metrics_names[1], score[0]))\n"
   ]
  },
  {
   "cell_type": "code",
   "execution_count": 39,
   "metadata": {},
   "outputs": [
    {
     "name": "stdout",
     "output_type": "stream",
     "text": [
      "Mean Squared Error:       0.004617816928813304\n",
      "Root Mean Squared Error:  0.06795452103291807\n",
      "Mean Absolute Error:      0.04973156442245978\n",
      "Mean Percent Error:       0.7481122217675659\n"
     ]
    },
    {
     "data": {
      "image/png": "[encoded data removed]",
      "text/plain": [
       "<Figure size 1008x720 with 1 Axes>"
      ]
     },
     "metadata": {
      "needs_background": "light"
     },
     "output_type": "display_data"
    },
    {
     "data": {
      "image/png": "[encoded data removed]",
      "text/plain": [
       "<Figure size 1008x720 with 1 Axes>"
      ]
     },
     "metadata": {
      "needs_background": "light"
     },
     "output_type": "display_data"
    }
   ],
   "source": [
    "y_test_hat = loaded_model.predict(X_test)\n",
    "y_test_hat = np.squeeze(y_test_hat)\n",
    "CheckAccuracy(y_test, y_test_hat)"
   ]
  },
  {
   "cell_type": "code",
   "execution_count": 35,
   "metadata": {},
   "outputs": [
    {
     "name": "stdout",
     "output_type": "stream",
     "text": [
      "prediction price:  [53.37154493]\n",
      "original price:  [52.40172049]\n"
     ]
    }
   ],
   "source": [
    "df = random_barrier_options_pd(1)\n",
    "## Normalize the data exploiting the fact that the BS Model is linear homogenous in S,K\n",
    "df['stock_price'] = df['stock_price']/df['strike_price']\n",
    "df['barrier_price'] = df['barrier_price']/df['strike_price']\n",
    "df['put_price'] = df['put_price']/df['strike_price']\n",
    "df_input = df[['stock_price', 'strike_price', 'barrier_price', 'maturity', 'devidends', 'volatility', 'risk_free_rate']].values\n",
    "bo_price = loaded_model.predict(df_input)[0][0] \n",
    "print('prediction price: ', bo_price * df['strike_price'].values)\n",
    "print('original price: ', df['put_price'].values * df['strike_price'].values )"
   ]
  },
  {
   "cell_type": "code",
   "execution_count": 97,
   "metadata": {},
   "outputs": [
    {
     "name": "stdout",
     "output_type": "stream",
     "text": [
      "barrier = 160\n",
      "barrierType = UpOut\n",
      "optionType = Put\n",
      "rebate = 0.0\n",
      "underlying = 10\n",
      "strike = 150\n",
      "rf = 0.003\n",
      "sigma = 0.1\n",
      "maturity = 12\n",
      "divYield = 0.002\n",
      "139.56708195098898\n"
     ]
    }
   ],
   "source": [
    "#barrier options\n",
    "\n",
    "from QuantLib import *\n",
    "import matplotlib.pyplot as plt\n",
    "stock_price = ql.SimpleQuote(150.0)\n",
    "strike_price = 150\n",
    "barrier, barrierType, optionType, rebate = (160, Barrier.UpOut, Option.Put, 0.0)\n",
    "underlying, strike, rf, sigma, maturity, divYield = (10, 150, 0.003, 0.1, 12, 0.002)\n",
    "\n",
    "## maturity is in days and must be an integer \n",
    "barrier_data = dict( (name,eval(name)) for name in [\n",
    "    'barrier', 'barrierType', 'optionType', 'rebate', 'underlying', 'strike', \n",
    "    'rf', 'sigma', 'maturity', 'divYield'] )\n",
    "barrier_data['barrierType'] = ['DownIn', 'UpIn', 'DownOut', 'UpOut'][barrier_data['barrierType']]\n",
    "barrier_data['optionType'] = ['Put', '???', 'Call'][barrier_data['optionType']+1]\n",
    "for k in barrier_data.keys():\n",
    "    print(\"{} = {}\".format(k, barrier_data[k]))\n",
    "\n",
    "ql.Settings.instance().evaluationDate = calculation_date\n",
    "maturity_date = ql.Date(30, 10, 2020)\n",
    "\n",
    "process = BlackScholesMertonProcess(\n",
    "    QuoteHandle(SimpleQuote(underlying)),\n",
    "    YieldTermStructureHandle(FlatForward(calculation_date, divYield, Thirty360())),\n",
    "    YieldTermStructureHandle(FlatForward(calculation_date, rf, Thirty360())),\n",
    "    BlackVolTermStructureHandle(BlackConstantVol(\n",
    "        calculation_date, NullCalendar(), sigma, Thirty360())))\n",
    "option = BarrierOption(barrierType, barrier, rebate, \n",
    "                       PlainVanillaPayoff(optionType, strike), \n",
    "                       EuropeanExercise(maturity_date))\n",
    "option.setPricingEngine(AnalyticBarrierEngine(process))\n",
    "trueValue = option.NPV()\n",
    "\n",
    "print(trueValue)"
   ]
  },
  {
   "cell_type": "code",
   "execution_count": null,
   "metadata": {},
   "outputs": [],
   "source": []
  }
 ],
 "metadata": {
  "kernelspec": {
   "display_name": "NNforOptionsPricing",
   "language": "python",
   "name": "nnforoptionspricing"
  },
  "language_info": {
   "codemirror_mode": {
    "name": "ipython",
    "version": 3
   },
   "file_extension": ".py",
   "mimetype": "text/x-python",
   "name": "python",
   "nbconvert_exporter": "python",
   "pygments_lexer": "ipython3",
   "version": "3.7.3"
  }
 },
 "nbformat": 4,
 "nbformat_minor": 2
}
