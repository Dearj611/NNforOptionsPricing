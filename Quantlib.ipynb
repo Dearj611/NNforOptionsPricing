{
 "cells": [
  {
   "cell_type": "markdown",
   "metadata": {},
   "source": [
    "The very first attampt to use QuantLib and BS model and generate a call price.\n",
    "stock_price is stored in quote so we can change the value later."
   ]
  },
  {
   "cell_type": "code",
   "execution_count": 1,
   "metadata": {},
   "outputs": [],
   "source": [
    "import QuantLib as ql\n",
    "import numpy as np\n",
    "from timeit import default_timer as timer\n",
    "\n",
    "\n",
    "# option data\n",
    "maturity_date = ql.Date(30, 10, 2020)\n",
    "stock_price = ql.SimpleQuote(170.0)\n",
    "strike_price = 150\n",
    "volatility = ql.SimpleQuote(0.10) # the historical vols for a year\n",
    "dividend_rate =  ql.SimpleQuote(0.002)\n",
    "risk_free_rate = ql.SimpleQuote(0.003)\n",
    "option_type = ql.Option.Call\n",
    "\n",
    "day_count = ql.Actual365Fixed()\n",
    "calendar = ql.UnitedStates()\n",
    "\n",
    "calculation_date = ql.Date(27, 10, 2019)\n",
    "ql.Settings.instance().evaluationDate = calculation_date\n",
    "\n",
    "# construct the European Option\n",
    "payoff = ql.PlainVanillaPayoff(option_type, strike_price)\n",
    "exercise = ql.EuropeanExercise(maturity_date)\n",
    "european_option = ql.VanillaOption(payoff, exercise)\n",
    "\n",
    "spot_handle = ql.QuoteHandle(stock_price)\n",
    "flat_ts = ql.YieldTermStructureHandle(ql.FlatForward(calculation_date, ql.QuoteHandle(risk_free_rate), day_count))\n",
    "dividend_yield = ql.YieldTermStructureHandle(ql.FlatForward(calculation_date, ql.QuoteHandle(dividend_rate), day_count))\n",
    "flat_vol_ts = ql.BlackVolTermStructureHandle(ql.BlackConstantVol(calculation_date, calendar, ql.QuoteHandle(volatility), day_count))\n",
    "bsm_process = ql.BlackScholesMertonProcess(spot_handle, \n",
    "                                           dividend_yield, \n",
    "                                           flat_ts, \n",
    "                                           flat_vol_ts)\n"
   ]
  },
  {
   "cell_type": "markdown",
   "metadata": {},
   "source": [
    "Analytic Black-Scholes calculation:"
   ]
  },
  {
   "cell_type": "code",
   "execution_count": 2,
   "metadata": {},
   "outputs": [
    {
     "name": "stdout",
     "output_type": "stream",
     "text": [
      "The theoretical price is  20.912114216635807\n",
      "The delta is  0.9022541582733737\n",
      "The gamma is  0.009938484700038275\n",
      "The vega is  29.03698484648708\n",
      "The rho is  133.9228306919182\n",
      "The theta is  -1.5267579034120837\n",
      "Time used for BS calculation in total is  0.00037180500001454675\n"
     ]
    }
   ],
   "source": [
    "european_option.setPricingEngine(ql.AnalyticEuropeanEngine(bsm_process))\n",
    "time_bs_start = timer()\n",
    "bs_price = european_option.NPV()\n",
    "delta = european_option.delta()\n",
    "gamma = european_option.gamma() #second order\n",
    "vega = european_option.vega()\n",
    "rho = european_option.rho()\n",
    "theta = european_option.theta()\n",
    "time_bs_end = timer()\n",
    "time_bs = time_bs_end - time_bs_start\n",
    "\n",
    "\n",
    "print(\"The theoretical price is \", bs_price)\n",
    "print(\"The delta is \", delta)#Change in underlying price\n",
    "print(\"The gamma is \", gamma)#second order: rate of change in price\n",
    "print(\"The vega is \", vega)#Change in volatility\n",
    "print(\"The rho is \", rho)#Change in interest rate\n",
    "print(\"The theta is \", theta)#Change in time to expiration\n",
    "print(\"Time used for BS calculation in total is \", time_bs)\n"
   ]
  },
  {
   "cell_type": "code",
   "execution_count": 6,
   "metadata": {},
   "outputs": [],
   "source": [
    "#prepare for plotting\n",
    "xs_bs = np.linspace(100, 200, 400)\n",
    "ys_bs = []\n",
    "for x in xs_bs:\n",
    "    stock_price.setValue(x)\n",
    "    ys_bs.append(european_option.NPV())"
   ]
  },
  {
   "cell_type": "markdown",
   "metadata": {},
   "source": [
    "Instead of using analytic Black-Scholes formula, we can use Monte-Carlo simulation, output the price and the Greeks."
   ]
  },
  {
   "cell_type": "code",
   "execution_count": 3,
   "metadata": {},
   "outputs": [
    {
     "name": "stdout",
     "output_type": "stream",
     "text": [
      "The monte carlo theoretical price is  20.918709017560285\n",
      "The monte carlo error is  0.03159308810880852\n",
      "price plus:  21.011396313260615\n",
      "price minus:  20.82025094570825\n",
      "delta in MC is:  0.95572683776183\n",
      "gamma in MC is:  -29816.83527410311\n",
      "rho in MC is:  127.60613107322172\n",
      "vega in MC is:  16.645633691137363\n",
      "thema in MC is:  13.934418035493188\n",
      "Time used for MC calculation in total is  9.033005421000013\n"
     ]
    }
   ],
   "source": [
    "stock_price.setValue(170)\n",
    "engine = ql.MCEuropeanEngine(bsm_process, \"PseudoRandom\",\n",
    "                                      timeSteps=20,\n",
    "                                      requiredSamples=250000)\n",
    "european_option.setPricingEngine(engine)\n",
    "\n",
    "time_mc_start = timer()\n",
    "bs_price = european_option.NPV()\n",
    "error = european_option.errorEstimate()\n",
    "print(\"The monte carlo theoretical price is \", bs_price)\n",
    "print(\"The monte carlo error is \", error)\n",
    "\n",
    "#The Greeks for Monte-Carlo\n",
    "p_original = bs_price\n",
    "original_price = stock_price.value()\n",
    "change_stock_price = 0.1\n",
    "stock_price.setValue(original_price + change_stock_price)\n",
    "p_plus = european_option.NPV()\n",
    "print('price plus: ', p_plus)\n",
    "stock_price.setValue(original_price - change_stock_price)\n",
    "p_minus = european_option.NPV()\n",
    "print('price minus: ', p_minus)\n",
    "stock_price.setValue(original_price)\n",
    "mc_delta = (p_plus - p_minus) / (2*change_stock_price)\n",
    "mc_gamma = (p_plus - 2*original_price + p_minus) /(change_stock_price*change_stock_price)\n",
    "print(\"delta in MC is: \", mc_delta)\n",
    "print(\"gamma in MC is: \", mc_gamma)\n",
    "\n",
    "change_r = 0.001\n",
    "original_r = risk_free_rate.value()\n",
    "risk_free_rate.setValue(original_r + change_r)\n",
    "p_plus = european_option.NPV()\n",
    "risk_free_rate.setValue(original_r)\n",
    "mc_rho = (p_plus - p_original) / change_r\n",
    "print(\"rho in MC is: \", mc_rho)\n",
    "\n",
    "change_sigma = 0.001\n",
    "original_sigma = volatility.value()\n",
    "volatility.setValue(original_sigma + change_sigma)\n",
    "p_plus = european_option.NPV()\n",
    "volatility.setValue(original_sigma)\n",
    "mc_vega = (p_plus - p_original) / change_sigma\n",
    "print(\"vega in MC is: \", mc_vega)\n",
    "\n",
    "ql.Settings.instance().evaluationDate = calculation_date + 1\n",
    "p_later = european_option.NPV()\n",
    "change_in_time = 1.0 / 365\n",
    "mc_thema = (p_later - p_original) / change_in_time\n",
    "print(\"thema in MC is: \", mc_thema)\n",
    "\n",
    "time_mc_end = timer()\n",
    "time_mc = time_mc_end - time_mc_start\n",
    "\n",
    "print(\"Time used for MC calculation in total is \", time_mc, ' seconds')\n"
   ]
  },
  {
   "cell_type": "code",
   "execution_count": 93,
   "metadata": {},
   "outputs": [
    {
     "ename": "NameError",
     "evalue": "name 'xs_bs' is not defined",
     "output_type": "error",
     "traceback": [
      "\u001b[0;31m---------------------------------------------------------------------------\u001b[0m",
      "\u001b[0;31mNameError\u001b[0m                                 Traceback (most recent call last)",
      "\u001b[0;32m<ipython-input-93-8e9661a247fa>\u001b[0m in \u001b[0;36m<module>\u001b[0;34m\u001b[0m\n\u001b[1;32m     12\u001b[0m \u001b[0mplt\u001b[0m\u001b[0;34m.\u001b[0m\u001b[0mfigure\u001b[0m\u001b[0;34m(\u001b[0m\u001b[0mfigsize\u001b[0m\u001b[0;34m=\u001b[0m\u001b[0;34m(\u001b[0m\u001b[0;36m14\u001b[0m\u001b[0;34m,\u001b[0m\u001b[0;36m10\u001b[0m\u001b[0;34m)\u001b[0m\u001b[0;34m)\u001b[0m\u001b[0;34m\u001b[0m\u001b[0;34m\u001b[0m\u001b[0m\n\u001b[1;32m     13\u001b[0m \u001b[0mplt\u001b[0m\u001b[0;34m.\u001b[0m\u001b[0mplot\u001b[0m\u001b[0;34m(\u001b[0m\u001b[0mxs\u001b[0m\u001b[0;34m,\u001b[0m \u001b[0mys\u001b[0m\u001b[0;34m)\u001b[0m\u001b[0;34m\u001b[0m\u001b[0;34m\u001b[0m\u001b[0m\n\u001b[0;32m---> 14\u001b[0;31m \u001b[0mplt\u001b[0m\u001b[0;34m.\u001b[0m\u001b[0mplot\u001b[0m\u001b[0;34m(\u001b[0m\u001b[0mxs_bs\u001b[0m\u001b[0;34m,\u001b[0m \u001b[0mys_bs\u001b[0m\u001b[0;34m,\u001b[0m \u001b[0mlinestyle\u001b[0m\u001b[0;34m=\u001b[0m\u001b[0;34m'dashed'\u001b[0m\u001b[0;34m)\u001b[0m\u001b[0;34m\u001b[0m\u001b[0;34m\u001b[0m\u001b[0m\n\u001b[0m\u001b[1;32m     15\u001b[0m \u001b[0mplt\u001b[0m\u001b[0;34m.\u001b[0m\u001b[0mxlabel\u001b[0m\u001b[0;34m(\u001b[0m\u001b[0;34m'stock price'\u001b[0m\u001b[0;34m)\u001b[0m\u001b[0;34m\u001b[0m\u001b[0;34m\u001b[0m\u001b[0m\n\u001b[1;32m     16\u001b[0m \u001b[0mplt\u001b[0m\u001b[0;34m.\u001b[0m\u001b[0mylabel\u001b[0m\u001b[0;34m(\u001b[0m\u001b[0;34m'call price'\u001b[0m\u001b[0;34m)\u001b[0m\u001b[0;34m\u001b[0m\u001b[0;34m\u001b[0m\u001b[0m\n",
      "\u001b[0;31mNameError\u001b[0m: name 'xs_bs' is not defined"
     ]
    },
    {
     "data": {
      "image/png": "[encoded data removed]",
      "text/plain": [
       "<Figure size 1008x720 with 1 Axes>"
      ]
     },
     "metadata": {
      "needs_background": "light"
     },
     "output_type": "display_data"
    }
   ],
   "source": [
    "%matplotlib inline\n",
    "import numpy as np\n",
    "from IPython.display import display\n",
    "import matplotlib.pyplot as plt\n",
    "\n",
    "xs = np.linspace(100, 200, 20)\n",
    "ys = []\n",
    "for x in xs:\n",
    "    stock_price.setValue(x)\n",
    "    ys.append(european_option.NPV())\n",
    "    \n",
    "plt.figure(figsize=(14,10))\n",
    "plt.plot(xs, ys)\n",
    "plt.plot(xs_bs, ys_bs, linestyle='dashed')\n",
    "plt.xlabel('stock price') \n",
    "plt.ylabel('call price') \n",
    "plt.title('Option Price') \n",
    "plt.show() "
   ]
  },
  {
   "cell_type": "markdown",
   "metadata": {},
   "source": [
    "An Option Class which stores all the options info; return BS model call price; return the wanted data set for training purpose."
   ]
  },
  {
   "cell_type": "code",
   "execution_count": 4,
   "metadata": {
    "scrolled": true
   },
   "outputs": [],
   "source": [
    "class Option:\n",
    "    def __init__(self, calculation_date, maturity, stock_price, strike_price, volatility, dividend_rate, risk_free_rate, option_type):\n",
    "        self.maturity = maturity\n",
    "        self.stock_price = stock_price\n",
    "        self.strike_price = strike_price\n",
    "        self.volatility = volatility\n",
    "        self.dividend_rate = dividend_rate\n",
    "        self.risk_free_rate = risk_free_rate\n",
    "        self.option_type = option_type\n",
    "        self.calculation_date = calculation_date\n",
    "        self.bs_price = -1\n",
    "        \n",
    "    def BSM_price(self):\n",
    "        day_count = ql.Actual365Fixed()\n",
    "        calendar = ql.UnitedStates()\n",
    "        ql.Settings.instance().evaluationDate = self.calculation_date\n",
    "        \n",
    "        payoff = ql.PlainVanillaPayoff(self.option_type, self.strike_price)\n",
    "        exercise = ql.EuropeanExercise(self.maturity)\n",
    "        european_option = ql.VanillaOption(payoff, exercise)\n",
    "        spot_handle = ql.QuoteHandle(ql.SimpleQuote(self.stock_price))\n",
    "        flat_ts = ql.YieldTermStructureHandle(ql.FlatForward(self.calculation_date, self.risk_free_rate, day_count))\n",
    "        dividend_yield = ql.YieldTermStructureHandle(ql.FlatForward(self.calculation_date, self.dividend_rate, day_count))\n",
    "        flat_vol_ts = ql.BlackVolTermStructureHandle(ql.BlackConstantVol(self.calculation_date, calendar, self.volatility, day_count))\n",
    "        bsm_process = ql.BlackScholesMertonProcess(spot_handle, \n",
    "                                                   dividend_yield, \n",
    "                                                   flat_ts, \n",
    "                                                   flat_vol_ts)\n",
    "        european_option.setPricingEngine(ql.AnalyticEuropeanEngine(bsm_process))\n",
    "        bs_price = european_option.NPV()\n",
    "        self.bs_price = bs_price\n",
    "        return self.bs_price\n",
    "    \n",
    "    def data_set(self):\n",
    "        '''\n",
    "        Funtion to return a set of required data for one sample for training purpose.\n",
    "        \n",
    "        '''\n",
    "        if self.bs_price == -1:\n",
    "            self.BSM_price()\n",
    "        maturity_in_year = (self.maturity - self.calculation_date)/365\n",
    "        data_set = (self.stock_price, self.strike_price, maturity_in_year, self.dividend_rate, self.volatility, self.risk_free_rate, self.bs_price)\n",
    "        return data_set\n"
   ]
  },
  {
   "cell_type": "markdown",
   "metadata": {},
   "source": [
    "Functions to help in converting and auto-generate specific numbers of options sample data for training."
   ]
  },
  {
   "cell_type": "code",
   "execution_count": 5,
   "metadata": {},
   "outputs": [],
   "source": [
    "import datetime\n",
    "import random\n",
    "import pandas as pd\n",
    "\n",
    "'''Date helper functions'''\n",
    "def xldate_to_datetime(xldate):\n",
    "    temp = datetime.datetime(1899, 12, 30)\n",
    "    delta = datetime.timedelta(days=xldate)\n",
    "    return temp+delta\n",
    "\n",
    "def ql_to_datetime(d):\n",
    "    return datetime.datetime(d.year(), d.month(), d.dayOfMonth())\n",
    "\n",
    "def datetime_to_xldate(date):\n",
    "    temp = datetime.datetime(1899, 12, 30)\n",
    "    return (date - temp).days\n",
    "\n",
    "def random_options(numbers = 0):\n",
    "    options = []\n",
    "    start_maturity = datetime.datetime(2020,10,30)\n",
    "    end_maturity = datetime.datetime(2022,10,30)\n",
    "\n",
    "    xldate1 = datetime_to_xldate(start_maturity)\n",
    "    xldate2 = datetime_to_xldate(end_maturity)\n",
    "    for number in range(numbers):\n",
    "        maturity = ql.Date(random.randint(xldate1, xldate2+1))\n",
    "        stock_price = random.randint(100, 501)\n",
    "        strike_price = random.randint(7, 651)\n",
    "        volatility = random.uniform(0.05, 0.90)\n",
    "        dividend_rate = random.uniform(0.001, 0.003)\n",
    "        risk_free_rate = random.uniform(0.001, 0.003)\n",
    "        option_type = ql.Option.Call\n",
    "        option = Option(calculation_date, maturity, stock_price, strike_price, volatility, dividend_rate, risk_free_rate, option_type)\n",
    "        options.append(option.BSM_price())\n",
    "    return options\n",
    "\n",
    "def random_options_pd(numbers = 0):\n",
    "    options = []\n",
    "    start_maturity = datetime.datetime(2020,11,1)\n",
    "    end_maturity = datetime.datetime(2023,10,30)\n",
    "    calculation_date = datetime.datetime(2020,10,30)\n",
    "    \n",
    "    xldate1 = datetime_to_xldate(start_maturity)\n",
    "    xldate2 = datetime_to_xldate(end_maturity)\n",
    "    calculation_xldate = datetime_to_xldate(calculation_date)\n",
    "    calculation_date = ql.Date(calculation_xldate)\n",
    "    for number in range(numbers):\n",
    "        maturity = ql.Date(random.randint(xldate1, xldate2+1))\n",
    "        stock_price = random.randint(100, 501)\n",
    "        strike_price = random.randint(7, 651)\n",
    "        volatility = random.uniform(0.05, 0.90)\n",
    "        dividend_rate = random.uniform(0, 0.003)\n",
    "        risk_free_rate = random.uniform(0.001, 0.003)\n",
    "        option_type = ql.Option.Call\n",
    "        option = Option(calculation_date, maturity, stock_price, strike_price, volatility, dividend_rate, risk_free_rate, option_type)\n",
    "        options.append(option.data_set())  \n",
    "    dataframe = pd.DataFrame(options)\n",
    "    dataframe.columns = ['stock_price', 'strike_price', 'maturity', 'devidends', 'volatility', 'risk_free_rate', 'call_price']\n",
    "    return dataframe\n"
   ]
  },
  {
   "cell_type": "markdown",
   "metadata": {},
   "source": [
    "Generate Sample Data for DL"
   ]
  },
  {
   "cell_type": "code",
   "execution_count": 6,
   "metadata": {},
   "outputs": [],
   "source": [
    "n = 100000\n",
    "df = random_options_pd(n)\n",
    "## Normalize the data exploiting the fact that the BS Model is linear homogenous in S,K\n",
    "df['stock_price'] = df['stock_price']/df['strike_price']\n",
    "df['call_price'] = df['call_price']/df['strike_price']\n",
    "#print(df)\n",
    "#print(df.isnull().any())\n",
    "n_train =  (int)(0.8 * n)\n",
    "train = df[0:n_train]\n",
    "X_train = train[['stock_price', 'strike_price', 'maturity', 'devidends', 'volatility', 'risk_free_rate']].values\n",
    "y_train = train['call_price'].values\n",
    "test = df[n_train+1:n]\n",
    "X_test = test[['stock_price', 'strike_price', 'maturity', 'devidends', 'volatility', 'risk_free_rate']].values\n",
    "y_test = test['call_price'].values\n"
   ]
  },
  {
   "cell_type": "code",
   "execution_count": 9,
   "metadata": {},
   "outputs": [
    {
     "name": "stdout",
     "output_type": "stream",
     "text": [
      "Train on 72000 samples, validate on 8000 samples\n",
      "Epoch 1/10\n",
      " - 3s - loss: 15.3861 - val_loss: 0.2749\n",
      "Epoch 2/10\n",
      " - 2s - loss: 1.0573 - val_loss: 0.9147\n",
      "Epoch 3/10\n",
      " - 2s - loss: 0.8504 - val_loss: 1.0916\n",
      "Epoch 4/10\n",
      " - 2s - loss: 0.7454 - val_loss: 0.8482\n",
      "Epoch 5/10\n",
      " - 2s - loss: 0.6616 - val_loss: 0.4341\n",
      "Epoch 6/10\n",
      " - 2s - loss: 0.6224 - val_loss: 0.7866\n",
      "Epoch 7/10\n",
      " - 2s - loss: 0.6042 - val_loss: 1.2171\n",
      "Epoch 8/10\n",
      " - 2s - loss: 0.5872 - val_loss: 0.5141\n",
      "Epoch 9/10\n",
      " - 2s - loss: 0.5906 - val_loss: 0.4689\n",
      "Epoch 10/10\n",
      " - 2s - loss: 0.5590 - val_loss: 0.3655\n",
      "The mean squared error (MSE) for the test data set is: 0.4005015614104021\n"
     ]
    }
   ],
   "source": [
    "from keras.models import Sequential\n",
    "from keras.layers import Dense, Dropout, Activation, LeakyReLU\n",
    "from keras import backend\n",
    "from tensorflow import squeeze\n",
    "\n",
    "# problem is not because of my custom activation function, it's because of exponential activation not applied in this case.\n",
    "\n",
    "nodes = 65\n",
    "model = Sequential()\n",
    "\n",
    "model.add(Dense(nodes, input_dim=X_train.shape[1]))\n",
    "model.add(LeakyReLU())\n",
    "model.add(Dropout(0.25))\n",
    "\n",
    "model.add(Dense(nodes, activation='elu'))\n",
    "model.add(Dropout(0.25))\n",
    "\n",
    "model.add(Dense(nodes, activation='relu'))\n",
    "model.add(Dropout(0.25))\n",
    "\n",
    "model.add(Dense(nodes, activation='elu'))\n",
    "model.add(Dropout(0.25))\n",
    "\n",
    "model.add(Dense(1))\n",
    "model.add(Activation('linear'))\n",
    "          \n",
    "model.compile(loss='mse',optimizer='rmsprop', metrics=['mse'])\n",
    "\n",
    "model.fit(X_train, y_train, batch_size=64, epochs=10, validation_split=0.1, verbose=2)\n",
    "score, acc = model.evaluate(X_test, y_test, verbose=0)\n",
    "print(\"The mean squared error (MSE) for the test data set is: {}\".format(acc))\n"
   ]
  },
  {
   "cell_type": "markdown",
   "metadata": {},
   "source": [
    "A modified NN which gives really good results. Haven't adapted to their scaling method."
   ]
  },
  {
   "cell_type": "code",
   "execution_count": 10,
   "metadata": {},
   "outputs": [
    {
     "name": "stdout",
     "output_type": "stream",
     "text": [
      "Train on 64000 samples, validate on 16000 samples\n",
      "Epoch 1/30\n",
      " - 4s - loss: 0.5455 - val_loss: 0.0139\n",
      "Epoch 2/30\n",
      " - 3s - loss: 0.0424 - val_loss: 0.0335\n",
      "Epoch 3/30\n",
      " - 3s - loss: 0.0410 - val_loss: 0.0182\n",
      "Epoch 00003: early stopping\n",
      "The mean squared error (MSE) for the test data set is: 0.018813118167073272\n"
     ]
    }
   ],
   "source": [
    "from keras.models import Sequential\n",
    "from keras.layers import Dense, Dropout, Activation, LeakyReLU\n",
    "from keras import backend\n",
    "import keras\n",
    "\n",
    "model = Sequential()\n",
    "model.add(Dense(50,input_dim=6,activation='relu'))\n",
    "model.add(Dense(100,activation='relu'))\n",
    "model.add(Dense(100,activation='relu'))\n",
    "model.add(Dense(50,activation='relu'))\n",
    "model.add(Dense(1,activation='linear'))\n",
    "model.compile(loss='mean_squared_error',optimizer='adam')\n",
    "\n",
    "callbacks = [\n",
    "    keras.callbacks.EarlyStopping(\n",
    "        # Stop training when `val_loss` is no longer improving\n",
    "        monitor='val_loss',\n",
    "        # \"no longer improving\" being defined as \"no better than 1e-2 less\"\n",
    "        min_delta=1e-2,\n",
    "        # \"no longer improving\" being further defined as \"for at least 2 epochs\"\n",
    "        patience=2,\n",
    "        verbose=1)\n",
    "]\n",
    "\n",
    "model.fit(X_train, y_train, epochs=30, validation_split=0.2,callbacks=callbacks,\n",
    "        shuffle=True, verbose=2)\n",
    "\n",
    "test_error_rate = model.evaluate(X_test, y_test, verbose=0)\n",
    "print(\"The mean squared error (MSE) for the test data set is: {}\".format(test_error_rate))\n",
    "\n",
    "y_train_hat = model.predict(X_train)\n",
    "\n",
    "y_test_hat = model.predict(X_test)\n"
   ]
  },
  {
   "cell_type": "code",
   "execution_count": 56,
   "metadata": {},
   "outputs": [
    {
     "name": "stdout",
     "output_type": "stream",
     "text": [
      "greek-input data taken is:  [[1.12000000e+00 1.50000000e+02 1.01369863e+00 1.00000000e-01\n",
      "  2.00000000e-03 3.00000000e-03]]\n",
      "original price:  [0.01506709]  predicted price:  [[0.20021424]]\n"
     ]
    },
    {
     "data": {
      "text/plain": [
       "'\\ntest_data = [X_test[100]]\\nresult = y_test[100]\\nxa = np.array(test_data)\\nprint(\"testing data taken is: \", test_data, \" with result price as: \", result)\\nnn_original_price = model.predict(greek_input) \\nprint(nn_original_price)\\n'"
      ]
     },
     "execution_count": 56,
     "metadata": {},
     "output_type": "execute_result"
    }
   ],
   "source": [
    "options = []\n",
    "greek_option = Option(calculation_date, maturity_date, 168, 150, 0.002, 0.1, 0.003, option_type)\n",
    "greeks_data = greek_option.data_set()\n",
    "options.append(greeks_data)\n",
    "df = pd.DataFrame(options)\n",
    "df.columns = ['stock_price', 'strike_price', 'maturity', 'devidends', 'volatility', 'risk_free_rate', 'call_price']\n",
    "df['stock_price'] = df['stock_price']/df['strike_price']\n",
    "df['call_price'] = df['call_price']/df['strike_price']\n",
    "greek_input = df[['stock_price', 'strike_price', 'maturity', 'devidends', 'volatility', 'risk_free_rate']].values\n",
    "print(\"greek-input data taken is: \", greek_input)\n",
    "nn_original_price = model.predict(greek_input) \n",
    "print('original price: ', df['call_price'].values, ' predicted price: ', nn_original_price)\n",
    "\n",
    "'''\n",
    "test_data = [X_test[100]]\n",
    "result = y_test[100]\n",
    "xa = np.array(test_data)\n",
    "print(\"testing data taken is: \", test_data, \" with result price as: \", result)\n",
    "nn_original_price = model.predict(greek_input) \n",
    "print(nn_original_price)\n",
    "'''\n"
   ]
  },
  {
   "cell_type": "code",
   "execution_count": 63,
   "metadata": {},
   "outputs": [
    {
     "name": "stdout",
     "output_type": "stream",
     "text": [
      "greek-input data taken is:  [[6.55647383e-01 3.63000000e+02 8.63013699e-01 1.71563560e-03\n",
      "  7.61498346e-01 2.51856748e-03]]\n",
      "original price:  [0.09391341]  predicted price:  0.11021515\n",
      "value for plus:  [[6.55922865e-01 3.63000000e+02 8.63013699e-01 1.71563560e-03\n",
      "  7.61498346e-01 2.51856748e-03]]\n",
      "price plus:  0.11031356\n",
      "value for plus:  [[6.55371901e-01 3.63000000e+02 8.63013699e-01 1.71563560e-03\n",
      "  7.61498346e-01 2.51856748e-03]]\n",
      "price minus:  0.11012336\n",
      "delta in MC is:  0.0009509921073913574\n",
      "gamma in MC is:  0.0006616115570068358\n",
      "value for rho:  [[6.55647383e-01 3.63000000e+02 8.63013699e-01 1.71563560e-03\n",
      "  7.61498346e-01 3.51856748e-03]]\n",
      "price plus:  0.11017724\n",
      "rho in MC is:  -0.03790855407714844\n",
      "value for vega:  [[6.55647383e-01 3.63000000e+02 8.63013699e-01 1.71563560e-03\n",
      "  7.62498346e-01 2.51856748e-03]]\n",
      "price plus:  0.11037751\n",
      "vega in MC is:  0.16236305236816406\n",
      "value for thema:  [[6.55647383e-01 3.63000000e+02 8.65753425e-01 1.71563560e-03\n",
      "  7.61498346e-01 2.51856748e-03]]\n",
      "thema in MC is:  0.03694117069244385\n",
      "Time used for MC calculation in total is  0.04015564800010907  seconds\n"
     ]
    }
   ],
   "source": [
    "df = random_options_pd(1)\n",
    "\n",
    "df['stock_price'] = df['stock_price']/df['strike_price']\n",
    "df['call_price'] = df['call_price']/df['strike_price']\n",
    "greek_input = df[['stock_price', 'strike_price', 'maturity', 'devidends', 'volatility', 'risk_free_rate']].values\n",
    "print(\"greek-input data taken is: \", greek_input)\n",
    "nn_original_price = model.predict(greek_input)[0][0] \n",
    "print('original price: ', df['call_price'].values, ' predicted price: ', nn_original_price)\n",
    "\n",
    "time_mc_start = timer()\n",
    "\n",
    "#The Greeks for DL model\n",
    "#why it's forever negative, problem is my saving variables for Python!!\n",
    "\n",
    "change_stock_price = 0.1\n",
    "original_price = nn_original_price\n",
    "\n",
    "df['stock_price'] = (df['stock_price']*df['strike_price'] + change_stock_price)/df['strike_price']\n",
    "greek_input = df[['stock_price', 'strike_price', 'maturity', 'devidends', 'volatility', 'risk_free_rate']].values\n",
    "print('value for plus: ', greek_input)\n",
    "p_plus = model.predict(greek_input)[0][0] \n",
    "print('price plus: ', p_plus)\n",
    "\n",
    "df['stock_price'] = (df['stock_price']*df['strike_price'] - 2*change_stock_price)/df['strike_price']\n",
    "greek_input = df[['stock_price', 'strike_price', 'maturity', 'devidends', 'volatility', 'risk_free_rate']].values\n",
    "print('value for plus: ', greek_input)\n",
    "p_minus = model.predict(greek_input)[0][0] \n",
    "print('price minus: ', p_minus)\n",
    "df['stock_price'] = (df['stock_price']*df['strike_price'] + change_stock_price)/df['strike_price']\n",
    "\n",
    "dl_delta = (p_plus - p_minus) / (2*change_stock_price)\n",
    "dl_gamma = (p_plus - 2*original_price + p_minus) /(change_stock_price*change_stock_price)\n",
    "\n",
    "print(\"delta in MC is: \", dl_delta)\n",
    "print(\"gamma in MC is: \", dl_gamma)\n",
    "\n",
    "change_r = 0.001\n",
    "df['risk_free_rate'] = df['risk_free_rate'] + change_r\n",
    "greek_input = df[['stock_price', 'strike_price', 'maturity', 'devidends', 'volatility', 'risk_free_rate']].values\n",
    "print('value for rho: ', greek_input)\n",
    "p_plus = model.predict(greek_input)[0][0] \n",
    "print('price plus: ', p_plus)\n",
    "df['risk_free_rate'] = df['risk_free_rate'] - change_r\n",
    "dl_rho = (p_plus - original_price) / change_r\n",
    "print(\"rho in MC is: \", dl_rho)\n",
    "\n",
    "change_sigma = 0.001\n",
    "df['volatility'] = df['volatility'] + change_sigma\n",
    "greek_input = df[['stock_price', 'strike_price', 'maturity', 'devidends', 'volatility', 'risk_free_rate']].values\n",
    "print('value for vega: ', greek_input)\n",
    "p_plus = model.predict(greek_input)[0][0] \n",
    "print('price plus: ', p_plus)\n",
    "df['volatility'] = df['volatility'] - change_sigma\n",
    "dl_vega = (p_plus - original_price) / change_sigma\n",
    "print(\"vega in MC is: \", dl_vega)\n",
    "\n",
    "change_in_time = 1.0 / 365\n",
    "df['maturity'] = df['maturity'] + change_in_time\n",
    "greek_input = df[['stock_price', 'strike_price', 'maturity', 'devidends', 'volatility', 'risk_free_rate']].values\n",
    "print('value for thema: ', greek_input)\n",
    "p_later = model.predict(greek_input)[0][0] \n",
    "dl_thema = (p_later - original_price) / change_in_time\n",
    "print(\"thema in MC is: \", dl_thema)\n",
    "\n",
    "time_mc_end = timer()\n",
    "time_mc = time_mc_end - time_mc_start\n",
    "\n",
    "print(\"Time used for MC calculation in total is \", time_mc, ' seconds')\n"
   ]
  },
  {
   "cell_type": "markdown",
   "metadata": {},
   "source": [
    "Hyperparameter Optimization with Tree-structured Parzen Estimators (TPE) method"
   ]
  },
  {
   "cell_type": "code",
   "execution_count": 85,
   "metadata": {},
   "outputs": [
    {
     "name": "stdout",
     "output_type": "stream",
     "text": [
      "Train on 64000 samples, validate on 16000 samples\n",
      "Epoch 1/10\n",
      " - 3s - loss: 6.5926 - mse: 6.5926 - val_loss: 0.2802 - val_mse: 0.2802\n",
      "Epoch 2/10\n",
      " - 2s - loss: 1.0300 - mse: 1.0300 - val_loss: 0.3550 - val_mse: 0.3550\n",
      "Epoch 3/10\n",
      " - 2s - loss: 0.8483 - mse: 0.8483 - val_loss: 0.3648 - val_mse: 0.3648\n",
      "Epoch 4/10\n",
      " - 2s - loss: 0.7176 - mse: 0.7176 - val_loss: 0.3942 - val_mse: 0.3942\n",
      "Epoch 5/10\n",
      " - 2s - loss: 0.6558 - mse: 0.6558 - val_loss: 0.2790 - val_mse: 0.2790\n",
      "Epoch 6/10\n",
      " - 3s - loss: 0.5824 - mse: 0.5824 - val_loss: 0.3749 - val_mse: 0.3749\n",
      "Epoch 7/10\n",
      " - 3s - loss: 0.5490 - mse: 0.5490 - val_loss: 0.4835 - val_mse: 0.4835\n",
      "Epoch 8/10\n",
      " - 3s - loss: 0.5442 - mse: 0.5442 - val_loss: 0.3689 - val_mse: 0.3689\n",
      "Epoch 9/10\n",
      " - 3s - loss: 0.4530 - mse: 0.4530 - val_loss: 0.1357 - val_mse: 0.1357\n",
      "Epoch 10/10\n",
      " - 3s - loss: 0.4983 - mse: 0.4983 - val_loss: 0.1946 - val_mse: 0.1946\n",
      "The mean squared error (MSE) for the test data set is: [0.1823417966520567, 0.1823417842388153]\n"
     ]
    }
   ],
   "source": [
    "from keras.models import Sequential\n",
    "from keras.layers import Dense, Dropout, Activation, LeakyReLU\n",
    "from keras import backend\n",
    "import keras\n",
    "\n",
    "model = Sequential()\n",
    "model.add(Dense(64,input_dim=6,activation='relu'))\n",
    "model.add(Dropout(0.003331930415424511))\n",
    "\n",
    "model.add(Dense(126,activation='relu'))\n",
    "model.add(Dropout(0.2931001552138646))\n",
    "\n",
    "model.add(Dense(64,activation='elu'))\n",
    "model.add(Dropout(0.25100000541347456))\n",
    "\n",
    "model.add(Dense(126,activation='elu'))\n",
    "model.add(Dropout(0.2738488340941711))\n",
    "\n",
    "model.add(Dense(1,activation='linear'))\n",
    "model.compile(loss='mean_squared_error',optimizer='rmsprop', metrics=['mse'])\n",
    "\n",
    "#no. of epochs as a hyperparameter\n",
    "\n",
    "model.fit(X_train, y_train, epochs=10, batch_size=64, validation_split=0.2, verbose=2, shuffle=True)\n",
    "test_error_rate = model.evaluate(X_test, y_test, verbose=0)\n",
    "print(\"The mean squared error (MSE) for the test data set is: {}\".format(test_error_rate))\n"
   ]
  },
  {
   "cell_type": "code",
   "execution_count": 99,
   "metadata": {},
   "outputs": [
    {
     "name": "stdout",
     "output_type": "stream",
     "text": [
      "(170, 150, 1.010958904109589, 0.1, 0.002, 0.003, 4.108123278533351)\n",
      "   stock_price  strike_price  maturity  devidends  volatility  risk_free_rate  \\\n",
      "0     1.133333           150  1.010959        0.1       0.002           0.003   \n",
      "\n",
      "   call_price  \n",
      "0    0.027387  \n",
      "[[0.28387246]]\n"
     ]
    }
   ],
   "source": [
    "options = []\n",
    "greek_option = Option(calculation_date, maturity_date, 170, 150, 0.002, 0.1, 0.003, option_type)\n",
    "greeks_data = greek_option.data_set()\n",
    "print(greeks_data)\n",
    "options.append(greeks_data)\n",
    "df = pd.DataFrame(options)\n",
    "df.columns = ['stock_price', 'strike_price', 'maturity', 'devidends', 'volatility', 'risk_free_rate', 'call_price']\n",
    "df['stock_price'] = df['stock_price']/df['strike_price']\n",
    "df['call_price'] = df['call_price']/df['strike_price']\n",
    "print(df)\n",
    "greek_input = df[['stock_price', 'strike_price', 'maturity', 'devidends', 'volatility', 'risk_free_rate']].values\n",
    "xa = np.array(greek_input)\n",
    "\n",
    "nn_original_price = model.predict(xa) \n",
    "print(nn_original_price)\n",
    "\n",
    "#TODO: pick one point from the test data set, maybe this point is an outliner;\n"
   ]
  },
  {
   "cell_type": "code",
   "execution_count": 22,
   "metadata": {},
   "outputs": [
    {
     "name": "stdout",
     "output_type": "stream",
     "text": [
      "[name: \"/device:CPU:0\"\n",
      "device_type: \"CPU\"\n",
      "memory_limit: 268435456\n",
      "locality {\n",
      "}\n",
      "incarnation: 7434966614734429415\n",
      ", name: \"/device:GPU:0\"\n",
      "device_type: \"GPU\"\n",
      "memory_limit: 9210949796\n",
      "locality {\n",
      "  bus_id: 1\n",
      "  links {\n",
      "  }\n",
      "}\n",
      "incarnation: 5980424637199658622\n",
      "physical_device_desc: \"device: 0, name: GeForce GTX 1080 Ti, pci bus id: 0000:01:00.0, compute capability: 6.1\"\n",
      "]\n",
      "Num GPUs Available:  1\n"
     ]
    },
    {
     "data": {
      "text/plain": [
       "['/job:localhost/replica:0/task:0/device:GPU:0']"
      ]
     },
     "execution_count": 22,
     "metadata": {},
     "output_type": "execute_result"
    }
   ],
   "source": [
    "from __future__ import absolute_import, division, print_function, unicode_literals\n",
    "from tensorflow.python.client import device_lib\n",
    "import tensorflow as tf\n",
    "\n",
    "print(device_lib.list_local_devices())\n",
    "print(\"Num GPUs Available: \", len(tf.config.experimental.list_physical_devices('GPU')))\n",
    "\n",
    "from keras import backend as K\n",
    "K.tensorflow_backend._get_available_gpus()"
   ]
  },
  {
   "cell_type": "code",
   "execution_count": 17,
   "metadata": {},
   "outputs": [
    {
     "name": "stdout",
     "output_type": "stream",
     "text": [
      "Epoch 1/10\n",
      " - 9s - loss: 4.2128\n",
      "Epoch 2/10\n",
      " - 8s - loss: 0.7495\n",
      "Epoch 3/10\n",
      " - 8s - loss: 0.6419\n",
      "Epoch 4/10\n",
      " - 8s - loss: 0.6306\n",
      "Epoch 5/10\n",
      " - 8s - loss: 0.5909\n",
      "Epoch 6/10\n",
      " - 8s - loss: 0.5717\n",
      "Epoch 7/10\n",
      " - 8s - loss: 0.5533\n",
      "Epoch 8/10\n",
      " - 9s - loss: 0.5617\n",
      "Epoch 9/10\n",
      " - 9s - loss: 0.5645\n",
      "Epoch 10/10\n",
      " - 9s - loss: 0.5484\n",
      "The mean squared error (MSE) for the test data set is: 0.3346826271476617\n",
      "[[0.21677184]\n",
      " [0.21677184]\n",
      " [0.21677184]\n",
      " ...\n",
      " [0.38034475]\n",
      " [0.21677184]\n",
      " [0.21677184]]\n",
      "[[10.313256  ]\n",
      " [ 0.21677184]\n",
      " [ 0.51833975]\n",
      " ...\n",
      " [ 1.5997694 ]\n",
      " [10.955016  ]\n",
      " [ 0.21677184]]\n"
     ]
    }
   ],
   "source": [
    "from keras.models import Sequential\n",
    "from keras.layers import Dense, Dropout, Activation, LeakyReLU\n",
    "from keras import backend\n",
    "\n",
    "model = Sequential()\n",
    "\n",
    "nodes = 100\n",
    "model.add(Dense(nodes,input_dim=6))\n",
    "model.add(LeakyReLU())\n",
    "model.add(Dropout(0.25))\n",
    "\n",
    "model.add(Dense(nodes,activation='elu'))\n",
    "model.add(Dropout(0.25))\n",
    "\n",
    "model.add(Dense(nodes,activation='relu'))\n",
    "model.add(Dropout(0.25))\n",
    "\n",
    "model.add(Dense(nodes,activation='elu'))\n",
    "model.add(Dropout(0.25))\n",
    "\n",
    "model.add(Dense(1,activation='linear'))\n",
    "model.compile(loss='mean_squared_error',optimizer='adam')\n",
    "\n",
    "model.fit(X_train, y_train, epochs=10, shuffle=True, verbose=2)\n",
    "\n",
    "test_error_rate = model.evaluate(X_test, y_test, verbose=0)\n",
    "print(\"The mean squared error (MSE) for the test data set is: {}\".format(test_error_rate))\n",
    "\n",
    "y_train_hat = model.predict(X_train)\n",
    "print(y_train_hat)\n",
    "\n",
    "y_test_hat = model.predict(X_test)\n",
    "print(y_test_hat)"
   ]
  },
  {
   "cell_type": "code",
   "execution_count": 35,
   "metadata": {},
   "outputs": [],
   "source": [
    "from statistics import *\n",
    "from math import sqrt\n",
    "import matplotlib as mpl\n",
    "import numpy as np\n",
    "from IPython.display import display\n",
    "import matplotlib.pyplot as plt\n",
    "%matplotlib inline\n",
    "\n",
    "def CheckAccuracy(y,y_hat):\n",
    "    stats = dict()\n",
    "    \n",
    "    stats['diff'] = y - y_hat\n",
    "    \n",
    "    stats['mse'] = mean(stats['diff']**2)\n",
    "    print(\"Mean Squared Error:      \", stats['mse'])\n",
    "    \n",
    "    stats['rmse'] = sqrt(stats['mse'])\n",
    "    print(\"Root Mean Squared Error: \", stats['rmse'])\n",
    "    \n",
    "    stats['mae'] = mean(abs(stats['diff']))\n",
    "    print(\"Mean Absolute Error:     \", stats['mae'])\n",
    "    \n",
    "    stats['mpe'] = sqrt(stats['mse'])/mean(y)\n",
    "    print(\"Mean Percent Error:      \", stats['mpe'])\n",
    "    \n",
    "    #plots\n",
    "    mpl.rcParams['agg.path.chunksize'] = 100000\n",
    "    mpl.pyplot.figure(figsize=(14,10))\n",
    "    plt.scatter(y, y_hat,color='black',linewidth=0.3,alpha=0.4, s=0.5)\n",
    "    plt.xlabel('Actual Price',fontsize=20,fontname='Times New Roman')\n",
    "    plt.ylabel('Predicted Price',fontsize=20,fontname='Times New Roman') \n",
    "    plt.show()\n",
    "    \n",
    "    mpl.pyplot.figure(figsize=(14,10))\n",
    "    plt.hist(stats['diff'], bins=50,edgecolor='black',color='white')\n",
    "    plt.xlabel('Diff')\n",
    "    plt.ylabel('Density')\n",
    "    plt.show()\n",
    "    \n",
    "    #return stats\n"
   ]
  },
  {
   "cell_type": "code",
   "execution_count": 28,
   "metadata": {
    "scrolled": true
   },
   "outputs": [
    {
     "ename": "NameError",
     "evalue": "name 'y_train_hat' is not defined",
     "output_type": "error",
     "traceback": [
      "\u001b[0;31m---------------------------------------------------------------------------\u001b[0m",
      "\u001b[0;31mNameError\u001b[0m                                 Traceback (most recent call last)",
      "\u001b[0;32m<ipython-input-28-9576357d3d63>\u001b[0m in \u001b[0;36m<module>\u001b[0;34m\u001b[0m\n\u001b[1;32m      1\u001b[0m \u001b[0;31m#reduce dim (240000,1) -> (240000,) to match y_train's dim\u001b[0m\u001b[0;34m\u001b[0m\u001b[0;34m\u001b[0m\u001b[0;34m\u001b[0m\u001b[0m\n\u001b[1;32m      2\u001b[0m \u001b[0;34m\u001b[0m\u001b[0m\n\u001b[0;32m----> 3\u001b[0;31m \u001b[0my_train_hat\u001b[0m \u001b[0;34m=\u001b[0m \u001b[0mnp\u001b[0m\u001b[0;34m.\u001b[0m\u001b[0msqueeze\u001b[0m\u001b[0;34m(\u001b[0m\u001b[0my_train_hat\u001b[0m\u001b[0;34m)\u001b[0m\u001b[0;34m\u001b[0m\u001b[0;34m\u001b[0m\u001b[0m\n\u001b[0m\u001b[1;32m      4\u001b[0m \u001b[0mCheckAccuracy\u001b[0m\u001b[0;34m(\u001b[0m\u001b[0my_train\u001b[0m\u001b[0;34m,\u001b[0m \u001b[0my_train_hat\u001b[0m\u001b[0;34m)\u001b[0m\u001b[0;34m\u001b[0m\u001b[0;34m\u001b[0m\u001b[0m\n\u001b[1;32m      5\u001b[0m \u001b[0;34m\u001b[0m\u001b[0m\n",
      "\u001b[0;31mNameError\u001b[0m: name 'y_train_hat' is not defined"
     ]
    }
   ],
   "source": [
    "#reduce dim (240000,1) -> (240000,) to match y_train's dim\n",
    "\n",
    "y_train_hat = squeeze(y_train_hat).numpy()\n",
    "CheckAccuracy(y_train, y_train_hat)\n",
    "\n",
    "y_test_hat = squeeze(y_test_hat).numpy()\n",
    "CheckAccuracy(y_test, y_test_hat)"
   ]
  },
  {
   "cell_type": "markdown",
   "metadata": {},
   "source": [
    "Load pre-trained model from hyper-parameter optimization scripts"
   ]
  },
  {
   "cell_type": "code",
   "execution_count": 40,
   "metadata": {},
   "outputs": [
    {
     "name": "stdout",
     "output_type": "stream",
     "text": [
      "Model: \"sequential_17\"\n",
      "_________________________________________________________________\n",
      "Layer (type)                 Output Shape              Param #   \n",
      "=================================================================\n",
      "dense_81 (Dense)             (None, 256)               1792      \n",
      "_________________________________________________________________\n",
      "dropout_65 (Dropout)         (None, 256)               0         \n",
      "_________________________________________________________________\n",
      "dense_82 (Dense)             (None, 256)               65792     \n",
      "_________________________________________________________________\n",
      "activation_65 (Activation)   (None, 256)               0         \n",
      "_________________________________________________________________\n",
      "dropout_66 (Dropout)         (None, 256)               0         \n",
      "_________________________________________________________________\n",
      "dense_83 (Dense)             (None, 256)               65792     \n",
      "_________________________________________________________________\n",
      "activation_66 (Activation)   (None, 256)               0         \n",
      "_________________________________________________________________\n",
      "dropout_67 (Dropout)         (None, 256)               0         \n",
      "_________________________________________________________________\n",
      "dense_84 (Dense)             (None, 256)               65792     \n",
      "_________________________________________________________________\n",
      "activation_67 (Activation)   (None, 256)               0         \n",
      "_________________________________________________________________\n",
      "dropout_68 (Dropout)         (None, 256)               0         \n",
      "_________________________________________________________________\n",
      "dense_85 (Dense)             (None, 1)                 257       \n",
      "_________________________________________________________________\n",
      "activation_68 (Activation)   (None, 1)                 0         \n",
      "=================================================================\n",
      "Total params: 199,425\n",
      "Trainable params: 199,425\n",
      "Non-trainable params: 0\n",
      "_________________________________________________________________\n",
      "Mean Squared Error:       8.621624213991927\n",
      "Root Mean Squared Error:  2.936260242892637\n",
      "Mean Absolute Error:      0.9779093724173415\n",
      "Mean Percent Error:       2.264761575356362\n"
     ]
    },
    {
     "data": {
      "image/png": "[encoded data removed]",
      "text/plain": [
       "<Figure size 1008x720 with 1 Axes>"
      ]
     },
     "metadata": {
      "needs_background": "light"
     },
     "output_type": "display_data"
    },
    {
     "data": {
      "image/png": "[encoded data removed]",
      "text/plain": [
       "<Figure size 1008x720 with 1 Axes>"
      ]
     },
     "metadata": {
      "needs_background": "light"
     },
     "output_type": "display_data"
    }
   ],
   "source": [
    "from keras.models import Sequential\n",
    "from keras.layers import Dense, Dropout, Activation\n",
    "\n",
    "trained_model = Sequential()\n",
    "trained_model.add(Dense(256,activation='relu', input_shape= (6,)))\n",
    "trained_model.add(Dropout(0.1))\n",
    "trained_model.add(Dense(256))\n",
    "trained_model.add(Activation('relu'))\n",
    "trained_model.add(Dropout(0.1))\n",
    "trained_model.add(Dense(256))\n",
    "trained_model.add(Activation('relu'))\n",
    "trained_model.add(Dropout(0.1))\n",
    "trained_model.add(Dense(256))\n",
    "trained_model.add(Activation('relu'))\n",
    "trained_model.add(Dropout(0.1))\n",
    "trained_model.add(Dense(1))\n",
    "trained_model.add(Activation('linear'))\n",
    "trained_model.compile(loss='mean_squared_error', metrics=['mse'],\n",
    "              optimizer='adam')\n",
    "trained_model.load_weights('model_weights.h5')\n",
    "trained_model.summary()\n",
    "\n",
    "y_test_hat = trained_model.predict(X_test)\n",
    "\n",
    "y_test_hat = np.squeeze(y_test_hat)\n",
    "CheckAccuracy(y_test, y_test_hat)"
   ]
  },
  {
   "cell_type": "code",
   "execution_count": null,
   "metadata": {},
   "outputs": [],
   "source": []
  },
  {
   "cell_type": "code",
   "execution_count": null,
   "metadata": {},
   "outputs": [],
   "source": []
  }
 ],
 "metadata": {
  "kernelspec": {
   "display_name": "NNforOptionsPricing",
   "language": "python",
   "name": "nnforoptionspricing"
  },
  "language_info": {
   "codemirror_mode": {
    "name": "ipython",
    "version": 3
   },
   "file_extension": ".py",
   "mimetype": "text/x-python",
   "name": "python",
   "nbconvert_exporter": "python",
   "pygments_lexer": "ipython3",
   "version": "3.7.3"
  }
 },
 "nbformat": 4,
 "nbformat_minor": 2
}
