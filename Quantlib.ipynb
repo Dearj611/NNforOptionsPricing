{
 "cells": [
  {
   "cell_type": "markdown",
   "metadata": {},
   "source": [
    "The very first attampt to use QuantLib and BS model and generate a call price.\n",
    "stock_price is stored in quote so we can change the value later."
   ]
  },
  {
   "cell_type": "code",
   "execution_count": 17,
   "metadata": {},
   "outputs": [],
   "source": [
    "import QuantLib as ql\n",
    "import numpy as np\n",
    "\n",
    "# option data\n",
    "maturity_date = ql.Date(30, 10, 2020)\n",
    "stock_price = ql.SimpleQuote(170.0)\n",
    "strike_price = 150\n",
    "volatility = 0.10 # the historical vols for a year\n",
    "dividend_rate =  0.002\n",
    "risk_free_rate = 0.003\n",
    "option_type = ql.Option.Call\n",
    "\n",
    "day_count = ql.Actual365Fixed()\n",
    "calendar = ql.UnitedStates()\n",
    "\n",
    "calculation_date = ql.Date(27, 10, 2019)\n",
    "ql.Settings.instance().evaluationDate = calculation_date\n",
    "\n",
    "# construct the European Option\n",
    "payoff = ql.PlainVanillaPayoff(option_type, strike_price)\n",
    "exercise = ql.EuropeanExercise(maturity_date)\n",
    "european_option = ql.VanillaOption(payoff, exercise)\n",
    "\n",
    "spot_handle = ql.QuoteHandle(stock_price)\n",
    "flat_ts = ql.YieldTermStructureHandle(ql.FlatForward(calculation_date, risk_free_rate, day_count))\n",
    "dividend_yield = ql.YieldTermStructureHandle(ql.FlatForward(calculation_date, dividend_rate, day_count))\n",
    "flat_vol_ts = ql.BlackVolTermStructureHandle(ql.BlackConstantVol(calculation_date, calendar, volatility, day_count))\n",
    "bsm_process = ql.BlackScholesMertonProcess(spot_handle, \n",
    "                                           dividend_yield, \n",
    "                                           flat_ts, \n",
    "                                           flat_vol_ts)\n"
   ]
  },
  {
   "cell_type": "markdown",
   "metadata": {},
   "source": [
    "Analytic Black-Scholes calculation:"
   ]
  },
  {
   "cell_type": "code",
   "execution_count": 19,
   "metadata": {},
   "outputs": [
    {
     "name": "stdout",
     "output_type": "stream",
     "text": [
      "The theoretical price is  20.912114216635807\n",
      "The delta is  0.9022541582733737\n",
      "The gamma is  0.009938484700038275\n",
      "The vega is  29.03698484648708\n",
      "The rho is  133.9228306919182\n"
     ]
    }
   ],
   "source": [
    "european_option.setPricingEngine(ql.AnalyticEuropeanEngine(bsm_process))\n",
    "bs_price = european_option.NPV()\n",
    "delta = european_option.delta()\n",
    "gamma = european_option.gamma()\n",
    "vega = european_option.vega()\n",
    "rho = european_option.rho()\n",
    "\n",
    "print(\"The theoretical price is \", bs_price)\n",
    "print(\"The delta is \", delta)\n",
    "print(\"The gamma is \", gamma)\n",
    "print(\"The vega is \", vega)\n",
    "print(\"The rho is \", rho)"
   ]
  },
  {
   "cell_type": "code",
   "execution_count": 4,
   "metadata": {},
   "outputs": [],
   "source": [
    "#prepare for plotting\n",
    "xs_bs = np.linspace(100, 200, 400)\n",
    "ys_bs = []\n",
    "for x in xs_bs:\n",
    "    stock_price.setValue(x)\n",
    "    ys_bs.append(european_option.NPV())"
   ]
  },
  {
   "cell_type": "markdown",
   "metadata": {},
   "source": [
    "Instead of using analytic Black-Scholes formula, we can use Monte-Carlo simulation."
   ]
  },
  {
   "cell_type": "code",
   "execution_count": 5,
   "metadata": {},
   "outputs": [
    {
     "name": "stdout",
     "output_type": "stream",
     "text": [
      "The monte carlo theoretical price is  20.916482907688053\n",
      "The monte carlo error is  0.03161661238051468\n"
     ]
    }
   ],
   "source": [
    "stock_price.setValue(170)\n",
    "engine = ql.MCEuropeanEngine(bsm_process, \"PseudoRandom\",\n",
    "                                      timeSteps=20,\n",
    "                                      requiredSamples=250000)\n",
    "european_option.setPricingEngine(engine)\n",
    "bs_price = european_option.NPV()\n",
    "error = european_option.errorEstimate()\n",
    "print(\"The monte carlo theoretical price is \", bs_price)\n",
    "print(\"The monte carlo error is \", error)"
   ]
  },
  {
   "cell_type": "code",
   "execution_count": 20,
   "metadata": {},
   "outputs": [
    {
     "data": {
      "image/png": "[encoded data removed]",
      "text/plain": [
       "<Figure size 1008x720 with 1 Axes>"
      ]
     },
     "metadata": {
      "needs_background": "light"
     },
     "output_type": "display_data"
    }
   ],
   "source": [
    "%matplotlib inline\n",
    "import numpy as np\n",
    "from IPython.display import display\n",
    "import matplotlib.pyplot as plt\n",
    "\n",
    "xs = np.linspace(100, 200, 20)\n",
    "ys = []\n",
    "for x in xs:\n",
    "    stock_price.setValue(x)\n",
    "    ys.append(european_option.NPV())\n",
    "    \n",
    "plt.figure(figsize=(14,10))\n",
    "plt.plot(xs, ys)\n",
    "plt.plot(xs_bs, ys_bs, linestyle='dashed')\n",
    "plt.xlabel('stock price') \n",
    "plt.ylabel('call price') \n",
    "plt.title('Option Price') \n",
    "plt.show() \n"
   ]
  },
  {
   "cell_type": "markdown",
   "metadata": {},
   "source": [
    "An Option Class which stores all the options info; return BS model call price; return the wanted data set for training purpose."
   ]
  },
  {
   "cell_type": "code",
   "execution_count": 7,
   "metadata": {
    "scrolled": true
   },
   "outputs": [],
   "source": [
    "class Option:\n",
    "    def __init__(self, calculation_date, maturity, stock_price, strike_price, volatility, dividend_rate, risk_free_rate, option_type):\n",
    "        self.maturity = maturity\n",
    "        self.stock_price = stock_price\n",
    "        self.strike_price = strike_price\n",
    "        self.volatility = volatility\n",
    "        self.dividend_rate = dividend_rate\n",
    "        self.risk_free_rate = risk_free_rate\n",
    "        self.option_type = option_type\n",
    "        self.calculation_date = calculation_date\n",
    "        self.bs_price = -1\n",
    "        \n",
    "    def BSM_price(self):\n",
    "        day_count = ql.Actual365Fixed()\n",
    "        calendar = ql.UnitedStates()\n",
    "        ql.Settings.instance().evaluationDate = self.calculation_date\n",
    "        \n",
    "        payoff = ql.PlainVanillaPayoff(self.option_type, self.strike_price)\n",
    "        exercise = ql.EuropeanExercise(self.maturity)\n",
    "        european_option = ql.VanillaOption(payoff, exercise)\n",
    "        spot_handle = ql.QuoteHandle(ql.SimpleQuote(self.stock_price))\n",
    "        flat_ts = ql.YieldTermStructureHandle(ql.FlatForward(self.calculation_date, self.risk_free_rate, day_count))\n",
    "        dividend_yield = ql.YieldTermStructureHandle(ql.FlatForward(self.calculation_date, self.dividend_rate, day_count))\n",
    "        flat_vol_ts = ql.BlackVolTermStructureHandle(ql.BlackConstantVol(self.calculation_date, calendar, self.volatility, day_count))\n",
    "        bsm_process = ql.BlackScholesMertonProcess(spot_handle, \n",
    "                                                   dividend_yield, \n",
    "                                                   flat_ts, \n",
    "                                                   flat_vol_ts)\n",
    "        european_option.setPricingEngine(ql.AnalyticEuropeanEngine(bsm_process))\n",
    "        bs_price = european_option.NPV()\n",
    "        self.bs_price = bs_price\n",
    "        return self.bs_price\n",
    "    \n",
    "    def data_set(self):\n",
    "        '''\n",
    "        Funtion to return a set of required data for one sample for training purpose.\n",
    "        \n",
    "        '''\n",
    "        if self.bs_price == -1:\n",
    "            self.BSM_price()\n",
    "        maturity_in_year = (self.maturity - self.calculation_date)/365\n",
    "        data_set = (self.stock_price, self.strike_price, maturity_in_year, self.dividend_rate, self.volatility, self.risk_free_rate, self.bs_price)\n",
    "        return data_set\n"
   ]
  },
  {
   "cell_type": "markdown",
   "metadata": {},
   "source": [
    "Functions to help in converting and auto-generate specific numbers of options sample data for training."
   ]
  },
  {
   "cell_type": "code",
   "execution_count": 8,
   "metadata": {},
   "outputs": [],
   "source": [
    "import datetime\n",
    "import random\n",
    "import pandas as pd\n",
    "\n",
    "'''Date helper functions'''\n",
    "def xldate_to_datetime(xldate):\n",
    "    temp = datetime.datetime(1899, 12, 30)\n",
    "    delta = datetime.timedelta(days=xldate)\n",
    "    return temp+delta\n",
    "\n",
    "def ql_to_datetime(d):\n",
    "    return datetime.datetime(d.year(), d.month(), d.dayOfMonth())\n",
    "\n",
    "def datetime_to_xldate(date):\n",
    "    temp = datetime.datetime(1899, 12, 30)\n",
    "    return (date - temp).days\n",
    "\n",
    "def random_options(numbers = 0):\n",
    "    options = []\n",
    "    start_maturity = datetime.datetime(2020,10,30)\n",
    "    end_maturity = datetime.datetime(2022,10,30)\n",
    "\n",
    "    xldate1 = datetime_to_xldate(start_maturity)\n",
    "    xldate2 = datetime_to_xldate(end_maturity)\n",
    "    for number in range(numbers):\n",
    "        maturity = ql.Date(random.randint(xldate1, xldate2+1))\n",
    "        stock_price = random.randint(100, 501)\n",
    "        strike_price = random.randint(7, 651)\n",
    "        volatility = random.uniform(0.05, 0.90)\n",
    "        dividend_rate = random.uniform(0.001, 0.003)\n",
    "        risk_free_rate = random.uniform(0.001, 0.003)\n",
    "        option_type = ql.Option.Call\n",
    "        option = Option(calculation_date, maturity, stock_price, strike_price, volatility, dividend_rate, risk_free_rate, option_type)\n",
    "        options.append(option.BSM_price())\n",
    "    return options\n",
    "\n",
    "def random_options_pd(numbers = 0):\n",
    "    options = []\n",
    "    start_maturity = datetime.datetime(2020,11,1)\n",
    "    end_maturity = datetime.datetime(2023,10,30)\n",
    "    calculation_date = datetime.datetime(2020,10,30)\n",
    "    \n",
    "    xldate1 = datetime_to_xldate(start_maturity)\n",
    "    xldate2 = datetime_to_xldate(end_maturity)\n",
    "    calculation_xldate = datetime_to_xldate(calculation_date)\n",
    "    calculation_date = ql.Date(calculation_xldate)\n",
    "    for number in range(numbers):\n",
    "        maturity = ql.Date(random.randint(xldate1, xldate2+1))\n",
    "        stock_price = random.randint(100, 501)\n",
    "        strike_price = random.randint(7, 651)\n",
    "        volatility = random.uniform(0.05, 0.90)\n",
    "        dividend_rate = random.uniform(0, 0.003)\n",
    "        risk_free_rate = random.uniform(0.001, 0.003)\n",
    "        option_type = ql.Option.Call\n",
    "        option = Option(calculation_date, maturity, stock_price, strike_price, volatility, dividend_rate, risk_free_rate, option_type)\n",
    "        options.append(option.data_set())  \n",
    "    dataframe = pd.DataFrame(options)\n",
    "    dataframe.columns = ['stock_price', 'strike_price', 'maturity', 'devidends', 'volatility', 'risk_free_rate', 'call_price']\n",
    "    return dataframe\n"
   ]
  },
  {
   "cell_type": "code",
   "execution_count": 9,
   "metadata": {},
   "outputs": [
    {
     "name": "stdout",
     "output_type": "stream",
     "text": [
      "        stock_price  strike_price  maturity  devidends  volatility  \\\n",
      "0          0.977273           308  2.287671   0.001474    0.625849   \n",
      "1          0.484783           460  2.326027   0.000925    0.141906   \n",
      "2          0.186469           606  2.046575   0.001420    0.822202   \n",
      "3          0.880000           225  2.712329   0.002862    0.466029   \n",
      "4          1.068884           421  2.561644   0.001362    0.870905   \n",
      "...             ...           ...       ...        ...         ...   \n",
      "299995     1.950980           204  0.723288   0.001219    0.609665   \n",
      "299996     1.110825           388  0.479452   0.002466    0.556509   \n",
      "299997     0.726667           150  1.523288   0.000324    0.878576   \n",
      "299998     1.152493           341  0.860274   0.001978    0.833239   \n",
      "299999     0.598326           239  1.915068   0.000972    0.793259   \n",
      "\n",
      "        risk_free_rate  call_price  \n",
      "0             0.001673    0.347566  \n",
      "1             0.001467    0.000016  \n",
      "2             0.001809    0.015463  \n",
      "3             0.001085    0.221477  \n",
      "4             0.001081    0.564670  \n",
      "...                ...         ...  \n",
      "299995        0.001981    0.983560  \n",
      "299996        0.001792    0.222108  \n",
      "299997        0.002772    0.233655  \n",
      "299998        0.001144    0.404173  \n",
      "299999        0.002441    0.163972  \n",
      "\n",
      "[300000 rows x 7 columns]\n",
      "stock_price       False\n",
      "strike_price      False\n",
      "maturity          False\n",
      "devidends         False\n",
      "volatility        False\n",
      "risk_free_rate    False\n",
      "call_price        False\n",
      "dtype: bool\n"
     ]
    }
   ],
   "source": [
    "n = 300000\n",
    "df = random_options_pd(n)\n",
    "## Normalize the data exploiting the fact that the BS Model is linear homogenous in S,K\n",
    "df['stock_price'] = df['stock_price']/df['strike_price']\n",
    "df['call_price'] = df['call_price']/df['strike_price']\n",
    "print(df)\n",
    "print(df.isnull().any())\n",
    "n_train =  (int)(0.8 * n)\n",
    "train = df[0:n_train]\n",
    "X_train = train[['stock_price', 'strike_price', 'maturity', 'devidends', 'volatility', 'risk_free_rate']].values\n",
    "y_train = train['call_price'].values\n",
    "test = df[n_train+1:n]\n",
    "X_test = test[['stock_price', 'strike_price', 'maturity', 'devidends', 'volatility', 'risk_free_rate']].values\n",
    "y_test = test['call_price'].values"
   ]
  },
  {
   "cell_type": "code",
   "execution_count": 10,
   "metadata": {},
   "outputs": [
    {
     "name": "stderr",
     "output_type": "stream",
     "text": [
      "Using TensorFlow backend.\n"
     ]
    },
    {
     "name": "stdout",
     "output_type": "stream",
     "text": [
      "Train on 216000 samples, validate on 24000 samples\n",
      "Epoch 1/10\n",
      " - 5s - loss: nan - val_loss: nan\n",
      "Epoch 2/10\n",
      " - 5s - loss: nan - val_loss: nan\n",
      "Epoch 3/10\n",
      " - 5s - loss: nan - val_loss: nan\n",
      "Epoch 4/10\n",
      " - 5s - loss: nan - val_loss: nan\n",
      "Epoch 5/10\n",
      " - 5s - loss: nan - val_loss: nan\n",
      "Epoch 6/10\n",
      " - 5s - loss: nan - val_loss: nan\n",
      "Epoch 7/10\n",
      " - 5s - loss: nan - val_loss: nan\n",
      "Epoch 8/10\n",
      " - 5s - loss: nan - val_loss: nan\n",
      "Epoch 9/10\n",
      " - 5s - loss: nan - val_loss: nan\n",
      "Epoch 10/10\n",
      " - 5s - loss: nan - val_loss: nan\n",
      "The mean squared error (MSE) for the test data set is: nan\n"
     ]
    }
   ],
   "source": [
    "from keras.models import Sequential\n",
    "from keras.layers import Dense, Dropout, Activation, LeakyReLU\n",
    "from keras import backend\n",
    "from tensorflow import squeeze\n",
    "\n",
    "# problem is not because of my custom activation function, it's because of exponential activation not applied in this case\n",
    "\n",
    "nodes = 100\n",
    "model = Sequential()\n",
    "\n",
    "model.add(Dense(nodes, input_dim=X_train.shape[1]))\n",
    "model.add(LeakyReLU())\n",
    "model.add(Dropout(0.25))\n",
    "\n",
    "model.add(Dense(nodes, activation='elu'))\n",
    "model.add(Dropout(0.25))\n",
    "\n",
    "model.add(Dense(nodes, activation='relu'))\n",
    "model.add(Dropout(0.25))\n",
    "\n",
    "model.add(Dense(nodes, activation='elu'))\n",
    "model.add(Dropout(0.25))\n",
    "\n",
    "model.add(Dense(1))\n",
    "model.add(Activation('exponential'))\n",
    "          \n",
    "model.compile(loss='mse',optimizer='rmsprop')\n",
    "\n",
    "model.fit(X_train, y_train, batch_size=64, epochs=10, validation_split=0.1, verbose=2)\n",
    "\n",
    "test_error_rate = model.evaluate(X_test, y_test, verbose=0)\n",
    "print(\"The mean squared error (MSE) for the test data set is: {}\".format(test_error_rate))\n"
   ]
  },
  {
   "cell_type": "markdown",
   "metadata": {},
   "source": [
    "A modified NN which gives really good results. Haven't adapted to their scaling method."
   ]
  },
  {
   "cell_type": "code",
   "execution_count": 23,
   "metadata": {},
   "outputs": [
    {
     "name": "stdout",
     "output_type": "stream",
     "text": [
      "Train on 192000 samples, validate on 48000 samples\n",
      "Epoch 1/30\n",
      " - 5s - loss: 0.3909 - val_loss: 0.0174\n",
      "Epoch 2/30\n",
      " - 5s - loss: 0.0313 - val_loss: 0.0044\n",
      "Epoch 3/30\n",
      " - 5s - loss: 0.0182 - val_loss: 0.0038\n",
      "Epoch 4/30\n",
      " - 5s - loss: 0.0142 - val_loss: 0.0354\n",
      "Epoch 00004: early stopping\n",
      "The mean squared error (MSE) for the test data set is: 0.03569148866515825\n"
     ]
    }
   ],
   "source": [
    "from keras.models import Sequential\n",
    "from keras.layers import Dense, Dropout, Activation, LeakyReLU\n",
    "from keras import backend\n",
    "import keras\n",
    "\n",
    "model = Sequential()\n",
    "model.add(Dense(50,input_dim=6,activation='relu'))\n",
    "model.add(Dense(100,activation='relu'))\n",
    "model.add(Dense(100,activation='relu'))\n",
    "model.add(Dense(50,activation='relu'))\n",
    "model.add(Dense(1,activation='linear'))\n",
    "model.compile(loss='mean_squared_error',optimizer='adam')\n",
    "\n",
    "callbacks = [\n",
    "    keras.callbacks.EarlyStopping(\n",
    "        # Stop training when `val_loss` is no longer improving\n",
    "        monitor='val_loss',\n",
    "        # \"no longer improving\" being defined as \"no better than 1e-2 less\"\n",
    "        min_delta=1e-2,\n",
    "        # \"no longer improving\" being further defined as \"for at least 2 epochs\"\n",
    "        patience=2,\n",
    "        verbose=1)\n",
    "]\n",
    "\n",
    "model.fit(X_train, y_train, epochs=30, validation_split=0.2,callbacks=callbacks,\n",
    "        shuffle=True, verbose=2)\n",
    "\n",
    "test_error_rate = model.evaluate(X_test, y_test, verbose=0)\n",
    "print(\"The mean squared error (MSE) for the test data set is: {}\".format(test_error_rate))\n",
    "\n",
    "y_train_hat = model.predict(X_train)\n",
    "\n",
    "y_test_hat = model.predict(X_test)\n"
   ]
  },
  {
   "cell_type": "code",
   "execution_count": 12,
   "metadata": {},
   "outputs": [
    {
     "name": "stdout",
     "output_type": "stream",
     "text": [
      "Train on 216000 samples, validate on 24000 samples\n",
      "Epoch 1/10\n",
      " - 8s - loss: 3.0226 - val_loss: 0.2396\n",
      "Epoch 2/10\n",
      " - 8s - loss: 0.7956 - val_loss: 0.1433\n",
      "Epoch 3/10\n",
      " - 8s - loss: 0.6460 - val_loss: 0.1228\n",
      "Epoch 4/10\n",
      " - 8s - loss: 0.5946 - val_loss: 0.8466\n",
      "Epoch 5/10\n",
      " - 8s - loss: 0.5957 - val_loss: 0.0963\n",
      "Epoch 6/10\n",
      " - 10s - loss: 0.6316 - val_loss: 0.1455\n",
      "Epoch 7/10\n",
      " - 9s - loss: 0.6061 - val_loss: 0.1099\n",
      "Epoch 8/10\n",
      " - 9s - loss: 0.6695 - val_loss: 0.1502\n",
      "Epoch 9/10\n",
      " - 11s - loss: 0.6124 - val_loss: 0.1191\n",
      "Epoch 10/10\n",
      " - 9s - loss: 0.5724 - val_loss: 0.1649\n",
      "The mean squared error (MSE) for the test data set is: 0.17634169648157474\n",
      "[[0.26303947]\n",
      " [0.16103673]\n",
      " [0.16103673]\n",
      " ...\n",
      " [1.9478593 ]\n",
      " [2.1565359 ]\n",
      " [0.16103673]]\n",
      "[[0.597736  ]\n",
      " [0.16103673]\n",
      " [0.16103673]\n",
      " ...\n",
      " [0.16103673]\n",
      " [0.16103673]\n",
      " [0.16103673]]\n"
     ]
    }
   ],
   "source": [
    "from keras.models import Sequential\n",
    "from keras.layers import Dense, Dropout, Activation, LeakyReLU\n",
    "from keras import backend\n",
    "\n",
    "model = Sequential()\n",
    "\n",
    "nodes = 100\n",
    "model.add(Dense(nodes,input_dim=6))\n",
    "model.add(LeakyReLU())\n",
    "model.add(Dropout(0.25))\n",
    "\n",
    "model.add(Dense(nodes,activation='elu'))\n",
    "model.add(Dropout(0.25))\n",
    "\n",
    "model.add(Dense(nodes,activation='relu'))\n",
    "model.add(Dropout(0.25))\n",
    "\n",
    "model.add(Dense(nodes,activation='elu'))\n",
    "model.add(Dropout(0.25))\n",
    "\n",
    "model.add(Dense(1,activation='linear'))\n",
    "model.compile(loss='mean_squared_error',optimizer='adam')\n",
    "\n",
    "model.fit(X_train, y_train, epochs=10, validation_split=0.1,\n",
    "        shuffle=True, verbose=2)\n",
    "\n",
    "test_error_rate = model.evaluate(X_test, y_test, verbose=0)\n",
    "print(\"The mean squared error (MSE) for the test data set is: {}\".format(test_error_rate))\n",
    "\n",
    "y_train_hat = model.predict(X_train)\n",
    "print(y_train_hat)\n",
    "\n",
    "y_test_hat = model.predict(X_test)\n",
    "print(y_test_hat)"
   ]
  },
  {
   "cell_type": "code",
   "execution_count": 13,
   "metadata": {},
   "outputs": [
    {
     "name": "stdout",
     "output_type": "stream",
     "text": [
      "Mean Squared Error:       0.17563647773671415\n",
      "Root Mean Squared Error:  0.4190900592196314\n",
      "Mean Absolute Error:      0.20469113474342393\n",
      "Mean Percent Error:       0.2906478504280663\n"
     ]
    },
    {
     "data": {
      "image/png": "[encoded data removed]",
      "text/plain": [
       "<Figure size 1008x720 with 1 Axes>"
      ]
     },
     "metadata": {
      "needs_background": "light"
     },
     "output_type": "display_data"
    },
    {
     "data": {
      "image/png": "[encoded data removed]",
      "text/plain": [
       "<Figure size 1008x720 with 1 Axes>"
      ]
     },
     "metadata": {
      "needs_background": "light"
     },
     "output_type": "display_data"
    }
   ],
   "source": [
    "from statistics import *\n",
    "from math import sqrt\n",
    "import matplotlib as mpl\n",
    "%matplotlib inline\n",
    "\n",
    "def CheckAccuracy(y,y_hat):\n",
    "    stats = dict()\n",
    "    \n",
    "    stats['diff'] = y - y_hat\n",
    "    \n",
    "    stats['mse'] = mean(stats['diff']**2)\n",
    "    print(\"Mean Squared Error:      \", stats['mse'])\n",
    "    \n",
    "    stats['rmse'] = sqrt(stats['mse'])\n",
    "    print(\"Root Mean Squared Error: \", stats['rmse'])\n",
    "    \n",
    "    stats['mae'] = mean(abs(stats['diff']))\n",
    "    print(\"Mean Absolute Error:     \", stats['mae'])\n",
    "    \n",
    "    stats['mpe'] = sqrt(stats['mse'])/mean(y)\n",
    "    print(\"Mean Percent Error:      \", stats['mpe'])\n",
    "    \n",
    "    #plots\n",
    "    mpl.rcParams['agg.path.chunksize'] = 100000\n",
    "    mpl.pyplot.figure(figsize=(14,10))\n",
    "    plt.scatter(y, y_hat,color='black',linewidth=0.3,alpha=0.4, s=0.5)\n",
    "    plt.xlabel('Actual Price',fontsize=20,fontname='Times New Roman')\n",
    "    plt.ylabel('Predicted Price',fontsize=20,fontname='Times New Roman') \n",
    "    plt.show()\n",
    "    \n",
    "    mpl.pyplot.figure(figsize=(14,10))\n",
    "    plt.hist(stats['diff'], bins=50,edgecolor='black',color='white')\n",
    "    plt.xlabel('Diff')\n",
    "    plt.ylabel('Density')\n",
    "    plt.show()\n",
    "    \n",
    "    #return stats\n",
    "\n",
    "#reduce dim (240000,1) -> (240000,) to match y_train's dim\n",
    "y_train_hat = squeeze(y_train_hat).numpy()\n",
    "CheckAccuracy(y_train, y_train_hat)"
   ]
  },
  {
   "cell_type": "code",
   "execution_count": 14,
   "metadata": {
    "scrolled": true
   },
   "outputs": [
    {
     "name": "stdout",
     "output_type": "stream",
     "text": [
      "Mean Squared Error:       0.176341697350564\n",
      "Root Mean Squared Error:  0.4199305863479868\n",
      "Mean Absolute Error:      0.20436393331688324\n",
      "Mean Percent Error:       0.29523180805315064\n"
     ]
    },
    {
     "data": {
      "image/png": "[encoded data removed]",
      "text/plain": [
       "<Figure size 1008x720 with 1 Axes>"
      ]
     },
     "metadata": {
      "needs_background": "light"
     },
     "output_type": "display_data"
    },
    {
     "data": {
      "image/png": "[encoded data removed]",
      "text/plain": [
       "<Figure size 1008x720 with 1 Axes>"
      ]
     },
     "metadata": {
      "needs_background": "light"
     },
     "output_type": "display_data"
    }
   ],
   "source": [
    "y_test_hat = squeeze(y_test_hat).numpy()\n",
    "CheckAccuracy(y_test, y_test_hat)"
   ]
  },
  {
   "cell_type": "code",
   "execution_count": null,
   "metadata": {},
   "outputs": [],
   "source": []
  },
  {
   "cell_type": "code",
   "execution_count": null,
   "metadata": {},
   "outputs": [],
   "source": []
  }
 ],
 "metadata": {
  "kernelspec": {
   "display_name": "DLOptionsPricing",
   "language": "python",
   "name": "dloptionspricing"
  },
  "language_info": {
   "codemirror_mode": {
    "name": "ipython",
    "version": 3
   },
   "file_extension": ".py",
   "mimetype": "text/x-python",
   "name": "python",
   "nbconvert_exporter": "python",
   "pygments_lexer": "ipython3",
   "version": "3.7.3"
  }
 },
 "nbformat": 4,
 "nbformat_minor": 2
}
