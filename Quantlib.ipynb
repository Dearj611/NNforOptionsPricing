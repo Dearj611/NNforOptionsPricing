{
 "cells": [
  {
   "cell_type": "markdown",
   "metadata": {},
   "source": [
    "The very first attampt to use QuantLib and BS model and generate a call price.\n",
    "stock_price is stored in quote so we can change the value later."
   ]
  },
  {
   "cell_type": "code",
   "execution_count": 27,
   "metadata": {},
   "outputs": [],
   "source": [
    "import QuantLib as ql\n",
    "import numpy as np\n",
    "\n",
    "# option data\n",
    "maturity_date = ql.Date(30, 10, 2020)\n",
    "stock_price = ql.SimpleQuote(170.0)\n",
    "strike_price = 150\n",
    "volatility = 0.10 # the historical vols for a year\n",
    "dividend_rate =  0.002\n",
    "risk_free_rate = 0.003\n",
    "option_type = ql.Option.Call\n",
    "\n",
    "day_count = ql.Actual365Fixed()\n",
    "calendar = ql.UnitedStates()\n",
    "\n",
    "calculation_date = ql.Date(27, 10, 2019)\n",
    "ql.Settings.instance().evaluationDate = calculation_date\n",
    "\n",
    "# construct the European Option\n",
    "payoff = ql.PlainVanillaPayoff(option_type, strike_price)\n",
    "exercise = ql.EuropeanExercise(maturity_date)\n",
    "european_option = ql.VanillaOption(payoff, exercise)\n",
    "\n",
    "spot_handle = ql.QuoteHandle(stock_price)\n",
    "flat_ts = ql.YieldTermStructureHandle(ql.FlatForward(calculation_date, risk_free_rate, day_count))\n",
    "dividend_yield = ql.YieldTermStructureHandle(ql.FlatForward(calculation_date, dividend_rate, day_count))\n",
    "flat_vol_ts = ql.BlackVolTermStructureHandle(ql.BlackConstantVol(calculation_date, calendar, volatility, day_count))\n",
    "bsm_process = ql.BlackScholesMertonProcess(spot_handle, \n",
    "                                           dividend_yield, \n",
    "                                           flat_ts, \n",
    "                                           flat_vol_ts)\n"
   ]
  },
  {
   "cell_type": "markdown",
   "metadata": {},
   "source": [
    "Analytic Black-Scholes calculation:"
   ]
  },
  {
   "cell_type": "code",
   "execution_count": 28,
   "metadata": {},
   "outputs": [
    {
     "name": "stdout",
     "output_type": "stream",
     "text": [
      "The theoretical price is  20.912114216635807\n",
      "The delta is  0.9022541582733737\n",
      "The gamma is  0.009938484700038275\n",
      "The vega is  29.03698484648708\n",
      "The rho is  133.9228306919182\n"
     ]
    }
   ],
   "source": [
    "european_option.setPricingEngine(ql.AnalyticEuropeanEngine(bsm_process))\n",
    "bs_price = european_option.NPV()\n",
    "delta = european_option.delta()\n",
    "gamma = european_option.gamma()\n",
    "vega = european_option.vega()\n",
    "rho = european_option.rho()\n",
    "\n",
    "print(\"The theoretical price is \", bs_price)\n",
    "print(\"The delta is \", delta)\n",
    "print(\"The gamma is \", gamma)\n",
    "print(\"The vega is \", vega)\n",
    "print(\"The rho is \", rho)"
   ]
  },
  {
   "cell_type": "code",
   "execution_count": 6,
   "metadata": {},
   "outputs": [],
   "source": [
    "#prepare for plotting\n",
    "xs_bs = np.linspace(100, 200, 400)\n",
    "ys_bs = []\n",
    "for x in xs_bs:\n",
    "    stock_price.setValue(x)\n",
    "    ys_bs.append(european_option.NPV())"
   ]
  },
  {
   "cell_type": "markdown",
   "metadata": {},
   "source": [
    "Instead of using analytic Black-Scholes formula, we can use Monte-Carlo simulation."
   ]
  },
  {
   "cell_type": "code",
   "execution_count": 7,
   "metadata": {},
   "outputs": [
    {
     "name": "stdout",
     "output_type": "stream",
     "text": [
      "The monte carlo theoretical price is  20.92493667128933\n",
      "The monte carlo error is  0.03171475958195919\n"
     ]
    }
   ],
   "source": [
    "stock_price.setValue(170)\n",
    "engine = ql.MCEuropeanEngine(bsm_process, \"PseudoRandom\",\n",
    "                                      timeSteps=20,\n",
    "                                      requiredSamples=250000)\n",
    "european_option.setPricingEngine(engine)\n",
    "bs_price = european_option.NPV()\n",
    "error = european_option.errorEstimate()\n",
    "print(\"The monte carlo theoretical price is \", bs_price)\n",
    "print(\"The monte carlo error is \", error)"
   ]
  },
  {
   "cell_type": "code",
   "execution_count": 8,
   "metadata": {},
   "outputs": [
    {
     "data": {
      "image/png": "[encoded data removed]",
      "text/plain": [
       "<Figure size 1008x720 with 1 Axes>"
      ]
     },
     "metadata": {
      "needs_background": "light"
     },
     "output_type": "display_data"
    }
   ],
   "source": [
    "%matplotlib inline\n",
    "import numpy as np\n",
    "from IPython.display import display\n",
    "import matplotlib.pyplot as plt\n",
    "\n",
    "xs = np.linspace(100, 200, 20)\n",
    "ys = []\n",
    "for x in xs:\n",
    "    stock_price.setValue(x)\n",
    "    ys.append(european_option.NPV())\n",
    "    \n",
    "plt.figure(figsize=(14,10))\n",
    "plt.plot(xs, ys)\n",
    "plt.plot(xs_bs, ys_bs, linestyle='dashed')\n",
    "plt.xlabel('stock price') \n",
    "plt.ylabel('call price') \n",
    "plt.title('Option Price') \n",
    "plt.show() \n"
   ]
  },
  {
   "cell_type": "code",
   "execution_count": 35,
   "metadata": {},
   "outputs": [
    {
     "name": "stdout",
     "output_type": "stream",
     "text": [
      "The theoretical price is  19.99514142398582\n"
     ]
    }
   ],
   "source": [
    "barrier, barrierType, optionType, rebate = (160.0, ql.Barrier.DownOut, ql.Option.Put, 0.0)\n",
    "option = ql.BarrierOption(barrierType, barrier, rebate, \n",
    "                       payoff, \n",
    "                       ql.EuropeanExercise(maturity_date))\n",
    "option.setPricingEngine(ql.AnalyticBarrierEngine(bsm_process))\n",
    "trueValue = option.NPV()\n",
    "\n",
    "print(\"The theoretical price is \", trueValue)\n"
   ]
  },
  {
   "cell_type": "code",
   "execution_count": 31,
   "metadata": {},
   "outputs": [
    {
     "name": "stdout",
     "output_type": "stream",
     "text": [
      "barrier = 165.0\n",
      "barrierType = UpOut\n",
      "optionType = Put\n",
      "rebate = 0.0\n",
      "underlying = 100\n",
      "strike = 105\n",
      "rf = 0.05\n",
      "sigma = 0.2\n",
      "maturity = 12\n",
      "divYield = 0.0\n",
      "4.985491231912263\n"
     ]
    }
   ],
   "source": [
    "#basket options\n",
    "\n",
    "\n",
    "from QuantLib import *\n",
    "import matplotlib.pyplot as plt\n",
    "stock_price = ql.SimpleQuote(150.0)\n",
    "strike_price = 150\n",
    "barrier, barrierType, optionType, rebate = (strike_price*1.1, Barrier.UpOut, Option.Put, 0.0)\n",
    "underlying, strike, rf, sigma, maturity, divYield = (100, 105, 5e-2, 20e-2, 12, 0.0)\n",
    "## maturity is in days and must be an integer \n",
    "barrier_data = dict( (name,eval(name)) for name in [\n",
    "    'barrier', 'barrierType', 'optionType', 'rebate', 'underlying', 'strike', \n",
    "    'rf', 'sigma', 'maturity', 'divYield'] )\n",
    "barrier_data['barrierType'] = ['DownIn', 'UpIn', 'DownOut', 'UpOut'][barrier_data['barrierType']]\n",
    "barrier_data['optionType'] = ['Put', '???', 'Call'][barrier_data['optionType']+1]\n",
    "for k in barrier_data.keys():\n",
    "    print(\"{} = {}\".format(k, barrier_data[k]))\n",
    "\n",
    "today = Settings.instance().evaluationDate\n",
    "maturity_date = today + int(maturity)\n",
    "process = BlackScholesMertonProcess(\n",
    "    QuoteHandle(SimpleQuote(underlying)),\n",
    "    YieldTermStructureHandle(FlatForward(today, divYield, Thirty360())),\n",
    "    YieldTermStructureHandle(FlatForward(today, rf, Thirty360())),\n",
    "    BlackVolTermStructureHandle(BlackConstantVol(\n",
    "        today, NullCalendar(), sigma, Thirty360())))\n",
    "option = BarrierOption(barrierType, barrier, rebate, \n",
    "                       PlainVanillaPayoff(optionType, strike), \n",
    "                       EuropeanExercise(maturity_date))\n",
    "option.setPricingEngine(AnalyticBarrierEngine(process))\n",
    "trueValue = option.NPV()\n",
    "\n",
    "print(trueValue)"
   ]
  },
  {
   "cell_type": "markdown",
   "metadata": {},
   "source": [
    "An Option Class which stores all the options info; return BS model call price; return the wanted data set for training purpose."
   ]
  },
  {
   "cell_type": "code",
   "execution_count": 4,
   "metadata": {
    "scrolled": true
   },
   "outputs": [],
   "source": [
    "class Option:\n",
    "    def __init__(self, calculation_date, maturity, stock_price, strike_price, volatility, dividend_rate, risk_free_rate, option_type):\n",
    "        self.maturity = maturity\n",
    "        self.stock_price = stock_price\n",
    "        self.strike_price = strike_price\n",
    "        self.volatility = volatility\n",
    "        self.dividend_rate = dividend_rate\n",
    "        self.risk_free_rate = risk_free_rate\n",
    "        self.option_type = option_type\n",
    "        self.calculation_date = calculation_date\n",
    "        self.bs_price = -1\n",
    "        \n",
    "    def BSM_price(self):\n",
    "        day_count = ql.Actual365Fixed()\n",
    "        calendar = ql.UnitedStates()\n",
    "        ql.Settings.instance().evaluationDate = self.calculation_date\n",
    "        \n",
    "        payoff = ql.PlainVanillaPayoff(self.option_type, self.strike_price)\n",
    "        exercise = ql.EuropeanExercise(self.maturity)\n",
    "        european_option = ql.VanillaOption(payoff, exercise)\n",
    "        spot_handle = ql.QuoteHandle(ql.SimpleQuote(self.stock_price))\n",
    "        flat_ts = ql.YieldTermStructureHandle(ql.FlatForward(self.calculation_date, self.risk_free_rate, day_count))\n",
    "        dividend_yield = ql.YieldTermStructureHandle(ql.FlatForward(self.calculation_date, self.dividend_rate, day_count))\n",
    "        flat_vol_ts = ql.BlackVolTermStructureHandle(ql.BlackConstantVol(self.calculation_date, calendar, self.volatility, day_count))\n",
    "        bsm_process = ql.BlackScholesMertonProcess(spot_handle, \n",
    "                                                   dividend_yield, \n",
    "                                                   flat_ts, \n",
    "                                                   flat_vol_ts)\n",
    "        european_option.setPricingEngine(ql.AnalyticEuropeanEngine(bsm_process))\n",
    "        bs_price = european_option.NPV()\n",
    "        self.bs_price = bs_price\n",
    "        return self.bs_price\n",
    "    \n",
    "    def data_set(self):\n",
    "        '''\n",
    "        Funtion to return a set of required data for one sample for training purpose.\n",
    "        \n",
    "        '''\n",
    "        if self.bs_price == -1:\n",
    "            self.BSM_price()\n",
    "        maturity_in_year = (self.maturity - self.calculation_date)/365\n",
    "        data_set = (self.stock_price, self.strike_price, maturity_in_year, self.dividend_rate, self.volatility, self.risk_free_rate, self.bs_price)\n",
    "        return data_set\n"
   ]
  },
  {
   "cell_type": "markdown",
   "metadata": {},
   "source": [
    "Functions to help in converting and auto-generate specific numbers of options sample data for training."
   ]
  },
  {
   "cell_type": "code",
   "execution_count": 5,
   "metadata": {},
   "outputs": [],
   "source": [
    "import datetime\n",
    "import random\n",
    "import pandas as pd\n",
    "\n",
    "'''Date helper functions'''\n",
    "def xldate_to_datetime(xldate):\n",
    "    temp = datetime.datetime(1899, 12, 30)\n",
    "    delta = datetime.timedelta(days=xldate)\n",
    "    return temp+delta\n",
    "\n",
    "def ql_to_datetime(d):\n",
    "    return datetime.datetime(d.year(), d.month(), d.dayOfMonth())\n",
    "\n",
    "def datetime_to_xldate(date):\n",
    "    temp = datetime.datetime(1899, 12, 30)\n",
    "    return (date - temp).days\n",
    "\n",
    "def random_options(numbers = 0):\n",
    "    options = []\n",
    "    start_maturity = datetime.datetime(2020,10,30)\n",
    "    end_maturity = datetime.datetime(2022,10,30)\n",
    "\n",
    "    xldate1 = datetime_to_xldate(start_maturity)\n",
    "    xldate2 = datetime_to_xldate(end_maturity)\n",
    "    for number in range(numbers):\n",
    "        maturity = ql.Date(random.randint(xldate1, xldate2+1))\n",
    "        stock_price = random.randint(100, 501)\n",
    "        strike_price = random.randint(7, 651)\n",
    "        volatility = random.uniform(0.05, 0.90)\n",
    "        dividend_rate = random.uniform(0.001, 0.003)\n",
    "        risk_free_rate = random.uniform(0.001, 0.003)\n",
    "        option_type = ql.Option.Call\n",
    "        option = Option(calculation_date, maturity, stock_price, strike_price, volatility, dividend_rate, risk_free_rate, option_type)\n",
    "        options.append(option.BSM_price())\n",
    "    return options\n",
    "\n",
    "def random_options_pd(numbers = 0):\n",
    "    options = []\n",
    "    start_maturity = datetime.datetime(2020,11,1)\n",
    "    end_maturity = datetime.datetime(2023,10,30)\n",
    "    calculation_date = datetime.datetime(2020,10,30)\n",
    "    \n",
    "    xldate1 = datetime_to_xldate(start_maturity)\n",
    "    xldate2 = datetime_to_xldate(end_maturity)\n",
    "    calculation_xldate = datetime_to_xldate(calculation_date)\n",
    "    calculation_date = ql.Date(calculation_xldate)\n",
    "    for number in range(numbers):\n",
    "        maturity = ql.Date(random.randint(xldate1, xldate2+1))\n",
    "        stock_price = random.randint(100, 501)\n",
    "        strike_price = random.randint(7, 651)\n",
    "        volatility = random.uniform(0.05, 0.90)\n",
    "        dividend_rate = random.uniform(0, 0.003)\n",
    "        risk_free_rate = random.uniform(0.001, 0.003)\n",
    "        option_type = ql.Option.Call\n",
    "        option = Option(calculation_date, maturity, stock_price, strike_price, volatility, dividend_rate, risk_free_rate, option_type)\n",
    "        options.append(option.data_set())  \n",
    "    dataframe = pd.DataFrame(options)\n",
    "    dataframe.columns = ['stock_price', 'strike_price', 'maturity', 'devidends', 'volatility', 'risk_free_rate', 'call_price']\n",
    "    return dataframe\n"
   ]
  },
  {
   "cell_type": "code",
   "execution_count": 11,
   "metadata": {},
   "outputs": [
    {
     "name": "stdout",
     "output_type": "stream",
     "text": [
      "stock_price       False\n",
      "strike_price      False\n",
      "maturity          False\n",
      "devidends         False\n",
      "volatility        False\n",
      "risk_free_rate    False\n",
      "call_price        False\n",
      "dtype: bool\n"
     ]
    }
   ],
   "source": [
    "n = 300000\n",
    "df = random_options_pd(n)\n",
    "## Normalize the data exploiting the fact that the BS Model is linear homogenous in S,K\n",
    "df['stock_price'] = df['stock_price']/df['strike_price']\n",
    "df['call_price'] = df['call_price']/df['strike_price']\n",
    "#print(df)\n",
    "print(df.isnull().any())\n",
    "n_train =  (int)(0.8 * n)\n",
    "train = df[0:n_train]\n",
    "X_train = train[['stock_price', 'strike_price', 'maturity', 'devidends', 'volatility', 'risk_free_rate']].values\n",
    "y_train = train['call_price'].values\n",
    "test = df[n_train+1:n]\n",
    "X_test = test[['stock_price', 'strike_price', 'maturity', 'devidends', 'volatility', 'risk_free_rate']].values\n",
    "y_test = test['call_price'].values"
   ]
  },
  {
   "cell_type": "code",
   "execution_count": 12,
   "metadata": {},
   "outputs": [
    {
     "name": "stderr",
     "output_type": "stream",
     "text": [
      "Using TensorFlow backend.\n"
     ]
    },
    {
     "name": "stdout",
     "output_type": "stream",
     "text": [
      "Train on 216000 samples, validate on 24000 samples\n",
      "Epoch 1/10\n",
      " - 6s - loss: nan - val_loss: nan\n",
      "Epoch 2/10\n",
      " - 5s - loss: nan - val_loss: nan\n",
      "Epoch 3/10\n",
      " - 5s - loss: nan - val_loss: nan\n",
      "Epoch 4/10\n",
      " - 5s - loss: nan - val_loss: nan\n",
      "Epoch 5/10\n",
      " - 5s - loss: nan - val_loss: nan\n",
      "Epoch 6/10\n",
      " - 5s - loss: nan - val_loss: nan\n",
      "Epoch 7/10\n",
      " - 5s - loss: nan - val_loss: nan\n",
      "Epoch 8/10\n",
      " - 5s - loss: nan - val_loss: nan\n",
      "Epoch 9/10\n",
      " - 5s - loss: nan - val_loss: nan\n",
      "Epoch 10/10\n",
      " - 5s - loss: nan - val_loss: nan\n",
      "The mean squared error (MSE) for the test data set is: nan\n"
     ]
    }
   ],
   "source": [
    "from keras.models import Sequential\n",
    "from keras.layers import Dense, Dropout, Activation, LeakyReLU\n",
    "from keras import backend\n",
    "from tensorflow import squeeze\n",
    "\n",
    "# problem is not because of my custom activation function, it's because of exponential activation not applied in this case\n",
    "\n",
    "nodes = 100\n",
    "model = Sequential()\n",
    "\n",
    "model.add(Dense(nodes, input_dim=X_train.shape[1]))\n",
    "model.add(LeakyReLU())\n",
    "model.add(Dropout(0.25))\n",
    "\n",
    "model.add(Dense(nodes, activation='elu'))\n",
    "model.add(Dropout(0.25))\n",
    "\n",
    "model.add(Dense(nodes, activation='relu'))\n",
    "model.add(Dropout(0.25))\n",
    "\n",
    "model.add(Dense(nodes, activation='elu'))\n",
    "model.add(Dropout(0.25))\n",
    "\n",
    "model.add(Dense(1))\n",
    "model.add(Activation('exponential'))\n",
    "          \n",
    "model.compile(loss='mse',optimizer='rmsprop')\n",
    "\n",
    "model.fit(X_train, y_train, batch_size=64, epochs=10, validation_split=0.1, verbose=2)\n",
    "\n",
    "test_error_rate = model.evaluate(X_test, y_test, verbose=0)\n",
    "print(\"The mean squared error (MSE) for the test data set is: {}\".format(test_error_rate))\n"
   ]
  },
  {
   "cell_type": "markdown",
   "metadata": {},
   "source": [
    "A modified NN which gives really good results. Haven't adapted to their scaling method."
   ]
  },
  {
   "cell_type": "code",
   "execution_count": 13,
   "metadata": {},
   "outputs": [
    {
     "name": "stdout",
     "output_type": "stream",
     "text": [
      "Train on 192000 samples, validate on 48000 samples\n",
      "Epoch 1/30\n",
      " - 5s - loss: 0.5215 - val_loss: 0.0055\n",
      "Epoch 2/30\n",
      " - 4s - loss: 0.0360 - val_loss: 0.0847\n",
      "Epoch 3/30\n",
      " - 5s - loss: 0.0210 - val_loss: 0.0103\n",
      "Epoch 00003: early stopping\n",
      "The mean squared error (MSE) for the test data set is: 0.010012359894751197\n"
     ]
    }
   ],
   "source": [
    "from keras.models import Sequential\n",
    "from keras.layers import Dense, Dropout, Activation, LeakyReLU\n",
    "from keras import backend\n",
    "import keras\n",
    "\n",
    "model = Sequential()\n",
    "model.add(Dense(50,input_dim=6,activation='relu'))\n",
    "model.add(Dense(100,activation='relu'))\n",
    "model.add(Dense(100,activation='relu'))\n",
    "model.add(Dense(50,activation='relu'))\n",
    "model.add(Dense(1,activation='linear'))\n",
    "model.compile(loss='mean_squared_error',optimizer='adam')\n",
    "\n",
    "callbacks = [\n",
    "    keras.callbacks.EarlyStopping(\n",
    "        # Stop training when `val_loss` is no longer improving\n",
    "        monitor='val_loss',\n",
    "        # \"no longer improving\" being defined as \"no better than 1e-2 less\"\n",
    "        min_delta=1e-2,\n",
    "        # \"no longer improving\" being further defined as \"for at least 2 epochs\"\n",
    "        patience=2,\n",
    "        verbose=1)\n",
    "]\n",
    "\n",
    "#no. of epochs as a hyperparameter\n",
    "\n",
    "model.fit(X_train, y_train, epochs=30, validation_split=0.2,callbacks=callbacks,\n",
    "        shuffle=True, verbose=2)\n",
    "\n",
    "test_error_rate = model.evaluate(X_test, y_test, verbose=0)\n",
    "print(\"The mean squared error (MSE) for the test data set is: {}\".format(test_error_rate))\n",
    "\n",
    "y_train_hat = model.predict(X_train)\n",
    "\n",
    "y_test_hat = model.predict(X_test)\n"
   ]
  },
  {
   "cell_type": "code",
   "execution_count": 22,
   "metadata": {},
   "outputs": [
    {
     "name": "stdout",
     "output_type": "stream",
     "text": [
      "[name: \"/device:CPU:0\"\n",
      "device_type: \"CPU\"\n",
      "memory_limit: 268435456\n",
      "locality {\n",
      "}\n",
      "incarnation: 7434966614734429415\n",
      ", name: \"/device:GPU:0\"\n",
      "device_type: \"GPU\"\n",
      "memory_limit: 9210949796\n",
      "locality {\n",
      "  bus_id: 1\n",
      "  links {\n",
      "  }\n",
      "}\n",
      "incarnation: 5980424637199658622\n",
      "physical_device_desc: \"device: 0, name: GeForce GTX 1080 Ti, pci bus id: 0000:01:00.0, compute capability: 6.1\"\n",
      "]\n",
      "Num GPUs Available:  1\n"
     ]
    },
    {
     "data": {
      "text/plain": [
       "['/job:localhost/replica:0/task:0/device:GPU:0']"
      ]
     },
     "execution_count": 22,
     "metadata": {},
     "output_type": "execute_result"
    }
   ],
   "source": [
    "from __future__ import absolute_import, division, print_function, unicode_literals\n",
    "from tensorflow.python.client import device_lib\n",
    "import tensorflow as tf\n",
    "\n",
    "print(device_lib.list_local_devices())\n",
    "print(\"Num GPUs Available: \", len(tf.config.experimental.list_physical_devices('GPU')))\n",
    "\n",
    "from keras import backend as K\n",
    "K.tensorflow_backend._get_available_gpus()"
   ]
  },
  {
   "cell_type": "code",
   "execution_count": 23,
   "metadata": {},
   "outputs": [
    {
     "name": "stdout",
     "output_type": "stream",
     "text": [
      "cross-validation started.\n",
      "accuracy: 1.13%\n",
      "accuracy: 1.13%\n",
      "accuracy: 1.30%\n",
      "accuracy: 1.23%\n",
      "accuracy: 1.63%\n",
      "accuracy: 1.60%\n",
      "accuracy: 1.67%\n",
      "accuracy: 0.93%\n",
      "accuracy: 1.07%\n",
      "accuracy: 1.10%\n",
      "1.28% (+/- 0.25%)\n"
     ]
    }
   ],
   "source": [
    "from keras.models import Sequential\n",
    "from keras.layers import Dense, Dropout, Activation, LeakyReLU\n",
    "from keras import backend\n",
    "#from sklearn.model_selection import StratifiedKFold\n",
    "from sklearn.model_selection import KFold\n",
    "import numpy\n",
    "# fix random seed for reproducibility\n",
    "seed = 7\n",
    "numpy.random.seed(seed)\n",
    "\n",
    "\n",
    "n = 30000\n",
    "df = random_options_pd(n)\n",
    "## Normalize the data exploiting the fact that the BS Model is linear homogenous in S,K\n",
    "df['stock_price'] = df['stock_price']/df['strike_price']\n",
    "df['call_price'] = df['call_price']/df['strike_price']\n",
    "X = df[['stock_price', 'strike_price', 'maturity', 'devidends', 'volatility', 'risk_free_rate']].values\n",
    "Y = df['call_price'].values\n",
    "kf = KFold(10, shuffle=True)\n",
    "cvscores = []\n",
    "print(\"cross-validation started.\")\n",
    "for train, test in kf.split(X, Y):\n",
    "    model = Sequential()\n",
    "    model.add(Dense(50,input_dim=6,activation='relu'))\n",
    "    model.add(Dense(100,activation='relu'))\n",
    "    model.add(Dense(100,activation='relu'))\n",
    "    model.add(Dense(50,activation='relu'))\n",
    "    model.add(Dense(1,activation='linear'))\n",
    "    model.compile(loss='mean_squared_error',optimizer='adam',metrics=['accuracy'] )\n",
    "    model.fit(X[train], Y[train], epochs=10, batch_size=10, verbose=0)\n",
    "    scores = model.evaluate(X[test], Y[test], verbose=0)\n",
    "    print(\"%s: %.2f%%\" % (model.metrics_names[1], scores[1]*100))\n",
    "    cvscores.append(scores[1] * 100)\n",
    "print(\"%.2f%% (+/- %.2f%%)\" % (numpy.mean(cvscores), numpy.std(cvscores)))\n"
   ]
  },
  {
   "cell_type": "code",
   "execution_count": 17,
   "metadata": {},
   "outputs": [
    {
     "name": "stdout",
     "output_type": "stream",
     "text": [
      "Epoch 1/10\n",
      " - 9s - loss: 4.2128\n",
      "Epoch 2/10\n",
      " - 8s - loss: 0.7495\n",
      "Epoch 3/10\n",
      " - 8s - loss: 0.6419\n",
      "Epoch 4/10\n",
      " - 8s - loss: 0.6306\n",
      "Epoch 5/10\n",
      " - 8s - loss: 0.5909\n",
      "Epoch 6/10\n",
      " - 8s - loss: 0.5717\n",
      "Epoch 7/10\n",
      " - 8s - loss: 0.5533\n",
      "Epoch 8/10\n",
      " - 9s - loss: 0.5617\n",
      "Epoch 9/10\n",
      " - 9s - loss: 0.5645\n",
      "Epoch 10/10\n",
      " - 9s - loss: 0.5484\n",
      "The mean squared error (MSE) for the test data set is: 0.3346826271476617\n",
      "[[0.21677184]\n",
      " [0.21677184]\n",
      " [0.21677184]\n",
      " ...\n",
      " [0.38034475]\n",
      " [0.21677184]\n",
      " [0.21677184]]\n",
      "[[10.313256  ]\n",
      " [ 0.21677184]\n",
      " [ 0.51833975]\n",
      " ...\n",
      " [ 1.5997694 ]\n",
      " [10.955016  ]\n",
      " [ 0.21677184]]\n"
     ]
    }
   ],
   "source": [
    "from keras.models import Sequential\n",
    "from keras.layers import Dense, Dropout, Activation, LeakyReLU\n",
    "from keras import backend\n",
    "\n",
    "model = Sequential()\n",
    "\n",
    "nodes = 100\n",
    "model.add(Dense(nodes,input_dim=6))\n",
    "model.add(LeakyReLU())\n",
    "model.add(Dropout(0.25))\n",
    "\n",
    "model.add(Dense(nodes,activation='elu'))\n",
    "model.add(Dropout(0.25))\n",
    "\n",
    "model.add(Dense(nodes,activation='relu'))\n",
    "model.add(Dropout(0.25))\n",
    "\n",
    "model.add(Dense(nodes,activation='elu'))\n",
    "model.add(Dropout(0.25))\n",
    "\n",
    "model.add(Dense(1,activation='linear'))\n",
    "model.compile(loss='mean_squared_error',optimizer='adam')\n",
    "\n",
    "model.fit(X_train, y_train, epochs=10, shuffle=True, verbose=2)\n",
    "\n",
    "test_error_rate = model.evaluate(X_test, y_test, verbose=0)\n",
    "print(\"The mean squared error (MSE) for the test data set is: {}\".format(test_error_rate))\n",
    "\n",
    "y_train_hat = model.predict(X_train)\n",
    "print(y_train_hat)\n",
    "\n",
    "y_test_hat = model.predict(X_test)\n",
    "print(y_test_hat)"
   ]
  },
  {
   "cell_type": "code",
   "execution_count": 15,
   "metadata": {},
   "outputs": [
    {
     "name": "stdout",
     "output_type": "stream",
     "text": [
      "Mean Squared Error:       0.4691783024075365\n",
      "Root Mean Squared Error:  0.6849659133179815\n",
      "Mean Absolute Error:      0.2360733901838385\n",
      "Mean Percent Error:       0.47370593656043414\n"
     ]
    },
    {
     "data": {
      "image/png": "[encoded data removed]",
      "text/plain": [
       "<Figure size 1008x720 with 1 Axes>"
      ]
     },
     "metadata": {
      "needs_background": "light"
     },
     "output_type": "display_data"
    },
    {
     "data": {
      "image/png": "[encoded data removed]",
      "text/plain": [
       "<Figure size 1008x720 with 1 Axes>"
      ]
     },
     "metadata": {
      "needs_background": "light"
     },
     "output_type": "display_data"
    }
   ],
   "source": [
    "from statistics import *\n",
    "from math import sqrt\n",
    "import matplotlib as mpl\n",
    "%matplotlib inline\n",
    "\n",
    "def CheckAccuracy(y,y_hat):\n",
    "    stats = dict()\n",
    "    \n",
    "    stats['diff'] = y - y_hat\n",
    "    \n",
    "    stats['mse'] = mean(stats['diff']**2)\n",
    "    print(\"Mean Squared Error:      \", stats['mse'])\n",
    "    \n",
    "    stats['rmse'] = sqrt(stats['mse'])\n",
    "    print(\"Root Mean Squared Error: \", stats['rmse'])\n",
    "    \n",
    "    stats['mae'] = mean(abs(stats['diff']))\n",
    "    print(\"Mean Absolute Error:     \", stats['mae'])\n",
    "    \n",
    "    stats['mpe'] = sqrt(stats['mse'])/mean(y)\n",
    "    print(\"Mean Percent Error:      \", stats['mpe'])\n",
    "    \n",
    "    #plots\n",
    "    mpl.rcParams['agg.path.chunksize'] = 100000\n",
    "    mpl.pyplot.figure(figsize=(14,10))\n",
    "    plt.scatter(y, y_hat,color='black',linewidth=0.3,alpha=0.4, s=0.5)\n",
    "    plt.xlabel('Actual Price',fontsize=20,fontname='Times New Roman')\n",
    "    plt.ylabel('Predicted Price',fontsize=20,fontname='Times New Roman') \n",
    "    plt.show()\n",
    "    \n",
    "    mpl.pyplot.figure(figsize=(14,10))\n",
    "    plt.hist(stats['diff'], bins=50,edgecolor='black',color='white')\n",
    "    plt.xlabel('Diff')\n",
    "    plt.ylabel('Density')\n",
    "    plt.show()\n",
    "    \n",
    "    #return stats\n",
    "\n",
    "#reduce dim (240000,1) -> (240000,) to match y_train's dim\n",
    "y_train_hat = squeeze(y_train_hat).numpy()\n",
    "CheckAccuracy(y_train, y_train_hat)"
   ]
  },
  {
   "cell_type": "code",
   "execution_count": 16,
   "metadata": {
    "scrolled": true
   },
   "outputs": [
    {
     "name": "stdout",
     "output_type": "stream",
     "text": [
      "Mean Squared Error:       0.4385555521522155\n",
      "Root Mean Squared Error:  0.6622352694867705\n",
      "Mean Absolute Error:      0.23362485764642463\n",
      "Mean Percent Error:       0.457161229523597\n"
     ]
    },
    {
     "data": {
      "image/png": "[encoded data removed]",
      "text/plain": [
       "<Figure size 1008x720 with 1 Axes>"
      ]
     },
     "metadata": {
      "needs_background": "light"
     },
     "output_type": "display_data"
    },
    {
     "data": {
      "image/png": "[encoded data removed]",
      "text/plain": [
       "<Figure size 1008x720 with 1 Axes>"
      ]
     },
     "metadata": {
      "needs_background": "light"
     },
     "output_type": "display_data"
    }
   ],
   "source": [
    "y_test_hat = squeeze(y_test_hat).numpy()\n",
    "CheckAccuracy(y_test, y_test_hat)"
   ]
  },
  {
   "cell_type": "code",
   "execution_count": null,
   "metadata": {},
   "outputs": [],
   "source": []
  },
  {
   "cell_type": "code",
   "execution_count": null,
   "metadata": {},
   "outputs": [],
   "source": []
  }
 ],
 "metadata": {
  "kernelspec": {
   "display_name": "NNforOptionsPricing",
   "language": "python",
   "name": "nnforoptionspricing"
  },
  "language_info": {
   "codemirror_mode": {
    "name": "ipython",
    "version": 3
   },
   "file_extension": ".py",
   "mimetype": "text/x-python",
   "name": "python",
   "nbconvert_exporter": "python",
   "pygments_lexer": "ipython3",
   "version": "3.7.3"
  }
 },
 "nbformat": 4,
 "nbformat_minor": 2
}
