{
 "cells": [
  {
   "cell_type": "code",
   "execution_count": 87,
   "metadata": {},
   "outputs": [],
   "source": [
    "import QuantLib as ql\n",
    "import matplotlib.pyplot as plt\n",
    "%matplotlib inline"
   ]
  },
  {
   "cell_type": "code",
   "execution_count": 88,
   "metadata": {},
   "outputs": [],
   "source": [
    "# option data\n",
    "maturity_date = ql.Date(30, 10, 2020)\n",
    "stock_price = 170\n",
    "strike_price = 150\n",
    "volatility = 0.10 # the historical vols for a year\n",
    "dividend_rate =  0.002\n",
    "risk_free_rate = 0.003\n",
    "option_type = ql.Option.Call\n",
    "\n",
    "day_count = ql.Actual365Fixed()\n",
    "calendar = ql.UnitedStates()\n",
    "\n",
    "calculation_date = ql.Date(27, 10, 2019)\n",
    "ql.Settings.instance().evaluationDate = calculation_date"
   ]
  },
  {
   "cell_type": "code",
   "execution_count": 89,
   "metadata": {},
   "outputs": [],
   "source": [
    "# construct the European Option\n",
    "payoff = ql.PlainVanillaPayoff(option_type, strike_price)\n",
    "exercise = ql.EuropeanExercise(maturity_date)\n",
    "european_option = ql.VanillaOption(payoff, exercise)"
   ]
  },
  {
   "cell_type": "code",
   "execution_count": 90,
   "metadata": {},
   "outputs": [],
   "source": [
    "spot_handle = ql.QuoteHandle(ql.SimpleQuote(stock_price))\n",
    "flat_ts = ql.YieldTermStructureHandle(ql.FlatForward(calculation_date, risk_free_rate, day_count))\n",
    "dividend_yield = ql.YieldTermStructureHandle(ql.FlatForward(calculation_date, dividend_rate, day_count))\n",
    "flat_vol_ts = ql.BlackVolTermStructureHandle(ql.BlackConstantVol(calculation_date, calendar, volatility, day_count))\n",
    "bsm_process = ql.BlackScholesMertonProcess(spot_handle, \n",
    "                                           dividend_yield, \n",
    "                                           flat_ts, \n",
    "                                           flat_vol_ts)"
   ]
  },
  {
   "cell_type": "code",
   "execution_count": 91,
   "metadata": {},
   "outputs": [
    {
     "name": "stdout",
     "output_type": "stream",
     "text": [
      "The theoretical price is  20.912114216635807\n"
     ]
    }
   ],
   "source": [
    "european_option.setPricingEngine(ql.AnalyticEuropeanEngine(bsm_process))\n",
    "bs_price = european_option.NPV()\n",
    "print(\"The theoretical price is \", bs_price)"
   ]
  },
  {
   "cell_type": "code",
   "execution_count": null,
   "metadata": {},
   "outputs": [],
   "source": []
  },
  {
   "cell_type": "code",
   "execution_count": 92,
   "metadata": {
    "scrolled": true
   },
   "outputs": [
    {
     "name": "stdout",
     "output_type": "stream",
     "text": [
      "(170, 150, 1.010958904109589, 0.002, 0.1, 0.003, 20.912114216635807)\n"
     ]
    }
   ],
   "source": [
    "class Option:\n",
    "    def __init__(self, calculation_date, maturity, stock_price, strike_price, volatility, dividend_rate, risk_free_rate, option_type):\n",
    "        self.maturity = maturity\n",
    "        self.stock_price = stock_price\n",
    "        self.strike_price = strike_price\n",
    "        self.volatility = volatility\n",
    "        self.dividend_rate = dividend_rate\n",
    "        self.risk_free_rate = risk_free_rate\n",
    "        self.option_type = option_type\n",
    "        self.calculation_date = calculation_date\n",
    "        self.bs_price = -1\n",
    "        \n",
    "    def BSM_price(self):\n",
    "        day_count = ql.Actual365Fixed()\n",
    "        calendar = ql.UnitedStates()\n",
    "        ql.Settings.instance().evaluationDate = self.calculation_date\n",
    "        \n",
    "        payoff = ql.PlainVanillaPayoff(self.option_type, self.strike_price)\n",
    "        exercise = ql.EuropeanExercise(self.maturity)\n",
    "        european_option = ql.VanillaOption(payoff, exercise)\n",
    "        spot_handle = ql.QuoteHandle(ql.SimpleQuote(self.stock_price))\n",
    "        flat_ts = ql.YieldTermStructureHandle(ql.FlatForward(self.calculation_date, self.risk_free_rate, day_count))\n",
    "        dividend_yield = ql.YieldTermStructureHandle(ql.FlatForward(self.calculation_date, self.dividend_rate, day_count))\n",
    "        flat_vol_ts = ql.BlackVolTermStructureHandle(ql.BlackConstantVol(self.calculation_date, calendar, self.volatility, day_count))\n",
    "        bsm_process = ql.BlackScholesMertonProcess(spot_handle, \n",
    "                                                   dividend_yield, \n",
    "                                                   flat_ts, \n",
    "                                                   flat_vol_ts)\n",
    "        european_option.setPricingEngine(ql.AnalyticEuropeanEngine(bsm_process))\n",
    "        bs_price = european_option.NPV()\n",
    "        self.bs_price = bs_price\n",
    "        return self.bs_price\n",
    "    \n",
    "    def data_set(self):\n",
    "        '''\n",
    "        Funtion to return a set of required data for one sample for training purpose.\n",
    "        \n",
    "        '''\n",
    "        if self.bs_price == -1:\n",
    "            self.BSM_price()\n",
    "        maturity_in_year = (self.maturity - self.calculation_date)/365\n",
    "        data_set = (self.stock_price, self.strike_price, maturity_in_year, self.dividend_rate, self.volatility, self.risk_free_rate, self.bs_price)\n",
    "        return data_set\n",
    "\n",
    "option1 = Option(ql.Date(27, 10, 2019), ql.Date(44134), 170, 150, 0.1, 0.002, 0.003, ql.Option.Call)\n",
    "print(option1.data_set())"
   ]
  },
  {
   "cell_type": "code",
   "execution_count": null,
   "metadata": {},
   "outputs": [],
   "source": []
  },
  {
   "cell_type": "code",
   "execution_count": 124,
   "metadata": {},
   "outputs": [],
   "source": [
    "import datetime\n",
    "import random\n",
    "import pandas as pd\n",
    "\n",
    "'''Date helper functions'''\n",
    "def xldate_to_datetime(xldate):\n",
    "    temp = datetime.datetime(1899, 12, 30)\n",
    "    delta = datetime.timedelta(days=xldate)\n",
    "    return temp+delta\n",
    "\n",
    "def ql_to_datetime(d):\n",
    "    return datetime.datetime(d.year(), d.month(), d.dayOfMonth())\n",
    "\n",
    "def datetime_to_xldate(date):\n",
    "    temp = datetime.datetime(1899, 12, 30)\n",
    "    return (date - temp).days\n",
    "\n",
    "def random_options(numbers = 0):\n",
    "    options = []\n",
    "    start_maturity = datetime.datetime(2020,10,30)\n",
    "    end_maturity = datetime.datetime(2022,10,30)\n",
    "\n",
    "    xldate1 = datetime_to_xldate(start_maturity)\n",
    "    xldate2 = datetime_to_xldate(end_maturity)\n",
    "    for number in range(numbers):\n",
    "        maturity = ql.Date(random.randint(xldate1, xldate2+1))\n",
    "        stock_price = random.randint(100, 501)\n",
    "        strike_price = random.randint(7, 651)\n",
    "        volatility = random.uniform(0.05, 0.90)\n",
    "        dividend_rate = random.uniform(0.001, 0.003)\n",
    "        risk_free_rate = random.uniform(0.001, 0.003)\n",
    "        option_type = ql.Option.Call\n",
    "        option = Option(calculation_date, maturity, stock_price, strike_price, volatility, dividend_rate, risk_free_rate, option_type)\n",
    "        options.append(option.BSM_price())\n",
    "    return options\n",
    "\n",
    "def random_options_pd(numbers = 0):\n",
    "    options = []\n",
    "    start_maturity = datetime.datetime(2020,11,1)\n",
    "    end_maturity = datetime.datetime(2023,10,30)\n",
    "    calculation_date = datetime.datetime(2020,10,30)\n",
    "    \n",
    "    xldate1 = datetime_to_xldate(start_maturity)\n",
    "    xldate2 = datetime_to_xldate(end_maturity)\n",
    "    calculation_xldate = datetime_to_xldate(calculation_date)\n",
    "    calculation_date = ql.Date(calculation_xldate)\n",
    "    for number in range(numbers):\n",
    "        maturity = ql.Date(random.randint(xldate1, xldate2+1))\n",
    "        stock_price = random.randint(100, 501)\n",
    "        strike_price = random.randint(7, 651)\n",
    "        volatility = random.uniform(0.05, 0.90)\n",
    "        dividend_rate = random.uniform(0, 0.003)\n",
    "        risk_free_rate = random.uniform(0.001, 0.003)\n",
    "        option_type = ql.Option.Call\n",
    "        option = Option(calculation_date, maturity, stock_price, strike_price, volatility, dividend_rate, risk_free_rate, option_type)\n",
    "        options.append(option.data_set())  \n",
    "    dataframe = pd.DataFrame(options)\n",
    "    dataframe.columns = ['stock_price', 'strike_price', 'maturity', 'devidends', 'volability', 'risk_free_rate', 'call_price']\n",
    "    return dataframe\n"
   ]
  },
  {
   "cell_type": "code",
   "execution_count": 143,
   "metadata": {},
   "outputs": [
    {
     "name": "stdout",
     "output_type": "stream",
     "text": [
      "     stock_price  strike_price  maturity  devidends  volability  \\\n",
      "0       0.481203           532  1.246575   0.001523    0.077188   \n",
      "1       0.593074           462  0.115068   0.001050    0.853395   \n",
      "2       0.525773           291  1.372603   0.001768    0.416219   \n",
      "3       0.595313           640  1.457534   0.000711    0.142420   \n",
      "4       0.226510           596  1.065753   0.002372    0.247960   \n",
      "..           ...           ...       ...        ...         ...   \n",
      "495     1.719512            82  0.775342   0.001303    0.296002   \n",
      "496     1.364548           299  1.375342   0.000747    0.308909   \n",
      "497     2.521739           115  2.589041   0.001463    0.513963   \n",
      "498     0.573876           467  0.657534   0.001307    0.691618   \n",
      "499     1.304545           220  1.312329   0.001159    0.363731   \n",
      "\n",
      "     risk_free_rate    call_price  \n",
      "0          0.001445  7.142108e-20  \n",
      "1          0.002100  3.122733e-03  \n",
      "2          0.002729  1.520448e-02  \n",
      "3          0.001951  4.937368e-05  \n",
      "4          0.001698  6.383663e-11  \n",
      "..              ...           ...  \n",
      "495        0.001524  7.212729e-01  \n",
      "496        0.002487  4.113452e-01  \n",
      "497        0.001577  1.598032e+00  \n",
      "498        0.002742  3.524148e-02  \n",
      "499        0.001924  3.791700e-01  \n",
      "\n",
      "[500 rows x 7 columns]\n",
      "stock_price       False\n",
      "strike_price      False\n",
      "maturity          False\n",
      "devidends         False\n",
      "volability        False\n",
      "risk_free_rate    False\n",
      "call_price        False\n",
      "dtype: bool\n"
     ]
    }
   ],
   "source": [
    "n = 500\n",
    "df = random_options_pd(n)\n",
    "## Normalize the data exploiting the fact that the BS Model is linear homogenous in S,K\n",
    "df['stock_price'] = df['stock_price']/df['strike_price']\n",
    "df['call_price'] = df['call_price']/df['strike_price']\n",
    "print(df)\n",
    "print(df.isnull().any())\n",
    "n_train =  (int)(0.8 * n)\n",
    "train = df[0:n_train]\n",
    "X_train = train[['stock_price', 'strike_price', 'maturity', 'devidends', 'volability', 'risk_free_rate']].values\n",
    "y_train = train['call_price'].values\n",
    "test = df[n_train+1:n]\n",
    "X_test = test[['stock_price', 'strike_price', 'maturity', 'devidends', 'volability', 'risk_free_rate']].values\n",
    "y_test = test['call_price'].values"
   ]
  },
  {
   "cell_type": "code",
   "execution_count": 144,
   "metadata": {},
   "outputs": [],
   "source": [
    "from keras.models import Sequential\n",
    "from keras.layers import Dense, Dropout, Activation, LeakyReLU\n",
    "from keras import backend\n",
    "from tensorflow import squeeze"
   ]
  },
  {
   "cell_type": "code",
   "execution_count": 145,
   "metadata": {},
   "outputs": [],
   "source": [
    "def custom_activation(x):\n",
    "    return backend.exp(x)"
   ]
  },
  {
   "cell_type": "code",
   "execution_count": 146,
   "metadata": {},
   "outputs": [],
   "source": [
    "nodes = 120\n",
    "model = Sequential()\n",
    "\n",
    "model.add(Dense(nodes, input_dim=X_train.shape[1]))\n",
    "model.add(LeakyReLU())\n",
    "model.add(Dropout(0.25))\n",
    "\n",
    "model.add(Dense(nodes, activation='elu'))\n",
    "model.add(Dropout(0.25))\n",
    "\n",
    "model.add(Dense(nodes, activation='relu'))\n",
    "model.add(Dropout(0.25))\n",
    "\n",
    "model.add(Dense(nodes, activation='elu'))\n",
    "model.add(Dropout(0.25))\n",
    "\n",
    "model.add(Dense(1))\n",
    "model.add(Activation(custom_activation))\n",
    "          \n",
    "model.compile(loss='mse',optimizer='rmsprop')"
   ]
  },
  {
   "cell_type": "code",
   "execution_count": 147,
   "metadata": {},
   "outputs": [
    {
     "name": "stdout",
     "output_type": "stream",
     "text": [
      "Train on 360 samples, validate on 40 samples\n",
      "Epoch 1/2\n",
      " - 0s - loss: nan - val_loss: nan\n",
      "Epoch 2/2\n",
      " - 0s - loss: nan - val_loss: nan\n"
     ]
    },
    {
     "data": {
      "text/plain": [
       "<keras.callbacks.callbacks.History at 0x143437dd8>"
      ]
     },
     "execution_count": 147,
     "metadata": {},
     "output_type": "execute_result"
    }
   ],
   "source": [
    "model.fit(X_train, y_train, batch_size=64, epochs=2, validation_split=0.1, verbose=2)\n"
   ]
  },
  {
   "cell_type": "code",
   "execution_count": 99,
   "metadata": {},
   "outputs": [],
   "source": [
    "def CheckAccuracy(y,y_hat):\n",
    "    stats = dict()\n",
    "    \n",
    "    stats['diff'] = y - y_hat\n",
    "    \n",
    "    stats['mse'] = mean(stats['diff']**2)\n",
    "    print(\"Mean Squared Error:      \", stats['mse'])\n",
    "    \n",
    "    stats['rmse'] = sqrt(stats['mse'])\n",
    "    print(\"Root Mean Squared Error: \", stats['rmse'])\n",
    "    \n",
    "    stats['mae'] = mean(abs(stats['diff']))\n",
    "    print(\"Mean Absolute Error:     \", stats['mae'])\n",
    "    \n",
    "    stats['mpe'] = sqrt(stats['mse'])/mean(y)\n",
    "    print(\"Mean Percent Error:      \", stats['mpe'])\n",
    "    \n",
    "    #plots\n",
    "    mpl.rcParams['agg.path.chunksize'] = 100000\n",
    "    figure(figsize=(14,10))\n",
    "    plt.scatter(y, y_hat,color='black',linewidth=0.3,alpha=0.4, s=0.5)\n",
    "    plt.xlabel('Actual Price',fontsize=20,fontname='Times New Roman')\n",
    "    plt.ylabel('Predicted Price',fontsize=20,fontname='Times New Roman') \n",
    "    plt.show()\n",
    "    \n",
    "    figure(figsize=(14,10))\n",
    "    plt.hist(stats['diff'], bins=50,edgecolor='black',color='white')\n",
    "    plt.xlabel('Diff')\n",
    "    plt.ylabel('Density')\n",
    "    plt.show()\n",
    "    \n",
    "    return stats"
   ]
  },
  {
   "cell_type": "code",
   "execution_count": 100,
   "metadata": {},
   "outputs": [
    {
     "ename": "NameError",
     "evalue": "name 'mean' is not defined",
     "output_type": "error",
     "traceback": [
      "\u001b[0;31m---------------------------------------------------------------------------\u001b[0m",
      "\u001b[0;31mNameError\u001b[0m                                 Traceback (most recent call last)",
      "\u001b[0;32m<ipython-input-100-968454a16c7b>\u001b[0m in \u001b[0;36m<module>\u001b[0;34m\u001b[0m\n\u001b[1;32m      2\u001b[0m \u001b[0;31m#reduce dim (240000,1) -> (240000,) to match y_train's dim\u001b[0m\u001b[0;34m\u001b[0m\u001b[0;34m\u001b[0m\u001b[0;34m\u001b[0m\u001b[0m\n\u001b[1;32m      3\u001b[0m \u001b[0my_train_hat\u001b[0m \u001b[0;34m=\u001b[0m \u001b[0msqueeze\u001b[0m\u001b[0;34m(\u001b[0m\u001b[0my_train_hat\u001b[0m\u001b[0;34m)\u001b[0m\u001b[0;34m\u001b[0m\u001b[0;34m\u001b[0m\u001b[0m\n\u001b[0;32m----> 4\u001b[0;31m \u001b[0mCheckAccuracy\u001b[0m\u001b[0;34m(\u001b[0m\u001b[0my_train\u001b[0m\u001b[0;34m,\u001b[0m \u001b[0my_train_hat\u001b[0m\u001b[0;34m)\u001b[0m\u001b[0;34m\u001b[0m\u001b[0;34m\u001b[0m\u001b[0m\n\u001b[0m",
      "\u001b[0;32m<ipython-input-99-d448b03d38f0>\u001b[0m in \u001b[0;36mCheckAccuracy\u001b[0;34m(y, y_hat)\u001b[0m\n\u001b[1;32m      4\u001b[0m     \u001b[0mstats\u001b[0m\u001b[0;34m[\u001b[0m\u001b[0;34m'diff'\u001b[0m\u001b[0;34m]\u001b[0m \u001b[0;34m=\u001b[0m \u001b[0my\u001b[0m \u001b[0;34m-\u001b[0m \u001b[0my_hat\u001b[0m\u001b[0;34m\u001b[0m\u001b[0;34m\u001b[0m\u001b[0m\n\u001b[1;32m      5\u001b[0m \u001b[0;34m\u001b[0m\u001b[0m\n\u001b[0;32m----> 6\u001b[0;31m     \u001b[0mstats\u001b[0m\u001b[0;34m[\u001b[0m\u001b[0;34m'mse'\u001b[0m\u001b[0;34m]\u001b[0m \u001b[0;34m=\u001b[0m \u001b[0mmean\u001b[0m\u001b[0;34m(\u001b[0m\u001b[0mstats\u001b[0m\u001b[0;34m[\u001b[0m\u001b[0;34m'diff'\u001b[0m\u001b[0;34m]\u001b[0m\u001b[0;34m**\u001b[0m\u001b[0;36m2\u001b[0m\u001b[0;34m)\u001b[0m\u001b[0;34m\u001b[0m\u001b[0;34m\u001b[0m\u001b[0m\n\u001b[0m\u001b[1;32m      7\u001b[0m     \u001b[0mprint\u001b[0m\u001b[0;34m(\u001b[0m\u001b[0;34m\"Mean Squared Error:      \"\u001b[0m\u001b[0;34m,\u001b[0m \u001b[0mstats\u001b[0m\u001b[0;34m[\u001b[0m\u001b[0;34m'mse'\u001b[0m\u001b[0;34m]\u001b[0m\u001b[0;34m)\u001b[0m\u001b[0;34m\u001b[0m\u001b[0;34m\u001b[0m\u001b[0m\n\u001b[1;32m      8\u001b[0m \u001b[0;34m\u001b[0m\u001b[0m\n",
      "\u001b[0;31mNameError\u001b[0m: name 'mean' is not defined"
     ]
    }
   ],
   "source": [
    "y_train_hat = model.predict(X_train)\n",
    "#reduce dim (240000,1) -> (240000,) to match y_train's dim\n",
    "y_train_hat = squeeze(y_train_hat)\n",
    "CheckAccuracy(y_train, y_train_hat)"
   ]
  },
  {
   "cell_type": "code",
   "execution_count": null,
   "metadata": {},
   "outputs": [],
   "source": []
  }
 ],
 "metadata": {
  "kernelspec": {
   "display_name": "NNforOptionsPricing",
   "language": "python",
   "name": "nnforoptionspricing"
  },
  "language_info": {
   "codemirror_mode": {
    "name": "ipython",
    "version": 3
   },
   "file_extension": ".py",
   "mimetype": "text/x-python",
   "name": "python",
   "nbconvert_exporter": "python",
   "pygments_lexer": "ipython3",
   "version": "3.7.3"
  }
 },
 "nbformat": 4,
 "nbformat_minor": 2
}
